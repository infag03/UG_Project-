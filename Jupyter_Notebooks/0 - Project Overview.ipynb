{
 "cells": [
  {
   "cell_type": "markdown",
   "metadata": {},
   "source": [
    "# Project Overview"
   ]
  },
  {
   "cell_type": "markdown",
   "metadata": {},
   "source": [
    "___"
   ]
  },
  {
   "cell_type": "markdown",
   "metadata": {
    "toc": true
   },
   "source": [
    "<h1>Table of Contents<span class=\"tocSkip\"></span></h1>\n",
    "<div class=\"toc\"><ul class=\"toc-item\"><li><span><a href=\"#Question\" data-toc-modified-id=\"Question-1\"><span class=\"toc-item-num\">1&nbsp;&nbsp;</span>Question</a></span></li><li><span><a href=\"#Goals\" data-toc-modified-id=\"Goals-2\"><span class=\"toc-item-num\">2&nbsp;&nbsp;</span>Goals</a></span></li><li><span><a href=\"#Real-World-Application\" data-toc-modified-id=\"Real-World-Application-3\"><span class=\"toc-item-num\">3&nbsp;&nbsp;</span>Real-World Application</a></span><ul class=\"toc-item\"><li><span><a href=\"#Rapid-Identification-Of-Deficient-Construction-Work.\" data-toc-modified-id=\"Rapid-Identification-Of-Deficient-Construction-Work.-3.1\"><span class=\"toc-item-num\">3.1&nbsp;&nbsp;</span>Rapid Identification Of Deficient Construction Work.</a></span></li></ul></li><li><span><a href=\"#Methodology\" data-toc-modified-id=\"Methodology-4\"><span class=\"toc-item-num\">4&nbsp;&nbsp;</span>Methodology</a></span></li><li><span><a href=\"#Evaluation\" data-toc-modified-id=\"Evaluation-5\"><span class=\"toc-item-num\">5&nbsp;&nbsp;</span>Evaluation</a></span></li></ul></div>"
   ]
  },
  {
   "cell_type": "markdown",
   "metadata": {},
   "source": [
    "___"
   ]
  },
  {
   "cell_type": "markdown",
   "metadata": {},
   "source": [
    "## Question"
   ]
  },
  {
   "cell_type": "markdown",
   "metadata": {},
   "source": [
    "**Can a Convolutional Neural Network detect and classify architectural and structural surface deficiencies in concrete?**"
   ]
  },
  {
   "cell_type": "markdown",
   "metadata": {},
   "source": [
    "___"
   ]
  },
  {
   "cell_type": "markdown",
   "metadata": {},
   "source": [
    "## Goals"
   ]
  },
  {
   "cell_type": "markdown",
   "metadata": {},
   "source": [
    "1. Rapidly identify images of architectural and structural surfaces that show deterioration or damage.\n",
    "2. Build a web-app or mobile app that can be used to process these images."
   ]
  },
  {
   "cell_type": "markdown",
   "metadata": {},
   "source": [
    "___"
   ]
  },
  {
   "cell_type": "markdown",
   "metadata": {},
   "source": [
    "## Real-World Application"
   ]
  },
  {
   "cell_type": "markdown",
   "metadata": {},
   "source": [
    "<h3 style=\"color:red;\">Rapid Identification Of Deficient Construction Work.</h3> \n",
    "\n",
    "- Architects and engineers visit project sites regularly to check in on general construction progress and to identify any **deficient work.**\n",
    "    - For example: cracked concrete, chipped tile work, scratched finishes, etc...\n",
    "    \n",
    "    \n",
    "- **Photography** is the primary medium to document site conditions. \n",
    "    - If the project is large, then hundreds or thousands of photos can be taken on a single site visit!\n",
    "    \n",
    "    \n",
    "- A selection of these photos is used to generate a **\"field report\".** \n",
    "    - The field report summarizes progress since the last visit and identifies any areas of deficient work.\n",
    "\n",
    "\n",
    "- Often times, it is very time-consuming to manually pore through all of the photos taken to find all of the images that capture deficient work.\n",
    "    - This can take a lot of time - and this is time that can be saved by a **Convolutional Neural Network.**\n",
    "    \n",
    "    \n",
    "- As an immediate use case, across a large architecture/engineering firm, or even a construction company, **this tool would save hundreds to thousands of hours of labor per year, and therefore would save many thousands of dollars.**\n",
    "\n",
    "\n",
    "- Further into future, perhaps drones could fly through a construction site, and take photos and auto-identify problem areas using this CNN!"
   ]
  },
  {
   "cell_type": "markdown",
   "metadata": {},
   "source": [
    "___"
   ]
  },
  {
   "cell_type": "markdown",
   "metadata": {},
   "source": [
    "## Methodology"
   ]
  },
  {
   "cell_type": "markdown",
   "metadata": {},
   "source": [
    "- Text"
   ]
  },
  {
   "cell_type": "markdown",
   "metadata": {},
   "source": [
    "## Evaluation"
   ]
  },
  {
   "cell_type": "markdown",
   "metadata": {},
   "source": [
    "- The most important thing is to capture as many of the deficiencies as possible.\n",
    "\n",
    "\n",
    "- **Missing deficiencies is potentially a safety issue on a construction site.**\n",
    "    - We don't want to let anything \"slip through the cracks\".\n",
    "    \n",
    "    \n",
    "- So then, probably the most important metric to evaluate \"success\" would be to measure:\n",
    "    - **Recall**\n",
    "    - **False Negative Rate**\n",
    "    \n",
    "    \n",
    "- However, we don't want to simply classify all images as \"deficient\".\n",
    "    - Then we aren't saving architects and engineers any time or effort!\n",
    "    \n",
    "    \n",
    "- So perhaps we would consider using **F1-Score** instead since it balances accuracy and recall so the model doesn't just classify everything as deficient."
   ]
  },
  {
   "cell_type": "code",
   "execution_count": null,
   "metadata": {},
   "outputs": [],
   "source": []
  }
 ],
 "metadata": {
  "kernelspec": {
   "display_name": "Python 3",
   "language": "python",
   "name": "python3"
  },
  "language_info": {
   "codemirror_mode": {
    "name": "ipython",
    "version": 3
   },
   "file_extension": ".py",
   "mimetype": "text/x-python",
   "name": "python",
   "nbconvert_exporter": "python",
   "pygments_lexer": "ipython3",
   "version": "3.7.4"
  },
  "toc": {
   "base_numbering": 1,
   "nav_menu": {},
   "number_sections": true,
   "sideBar": true,
   "skip_h1_title": true,
   "title_cell": "Table of Contents",
   "title_sidebar": "Contents",
   "toc_cell": true,
   "toc_position": {},
   "toc_section_display": true,
   "toc_window_display": true
  }
 },
 "nbformat": 4,
 "nbformat_minor": 2
}
