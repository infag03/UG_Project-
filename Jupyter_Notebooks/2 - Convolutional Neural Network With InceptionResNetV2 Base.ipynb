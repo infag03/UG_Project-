{
 "cells": [
  {
   "cell_type": "code",
   "execution_count": 3,
   "metadata": {},
   "outputs": [],
   "source": [
    "# Import necessary python packages and functions\n",
    "\n",
    "from __future__ import print_function\n",
    "import sys\n",
    "sys.path.append(\"..\")\n",
    "import matplotlib.pyplot as plt\n",
    "import matplotlib.ticker as ticker\n",
    "import seaborn as sns\n",
    "import numpy as np\n",
    "import pandas as pd\n",
    "import requests\n",
    "import json\n",
    "import math\n",
    "import sklearn\n",
    "from scipy import stats\n",
    "from scipy.stats import norm\n",
    "from sklearn.utils import resample\n",
    "import pickle\n",
    "import statsmodels.api as sm\n",
    "from statsmodels.formula.api import ols\n",
    "import scipy.stats as stats\n",
    "from wordcloud import WordCloud\n",
    "import random\n",
    "from collections import Counter\n",
    "from statsmodels.stats.outliers_influence import variance_inflation_factor\n",
    "from sklearn.model_selection import train_test_split, GridSearchCV, RandomizedSearchCV, cross_val_score, cross_validate\n",
    "from sklearn.linear_model import LassoCV, Lasso, Ridge, LinearRegression, LogisticRegression\n",
    "from sklearn.preprocessing import StandardScaler\n",
    "from sklearn.linear_model import SGDClassifier\n",
    "from sklearn.metrics import roc_curve, auc, confusion_matrix, roc_auc_score, precision_recall_curve, precision_recall_fscore_support\n",
    "import scipy.stats as stats\n",
    "from sklearn.preprocessing import OneHotEncoder\n",
    "from sklearn.ensemble import RandomForestClassifier\n",
    "from imblearn.over_sampling import SMOTE, ADASYN\n",
    "from pprint import pprint\n",
    "import keras\n",
    "from keras.preprocessing import image\n",
    "from keras.preprocessing.image import ImageDataGenerator, array_to_img, img_to_array, load_img\n",
    "from keras.models import Sequential, load_model, Input, Model\n",
    "from keras.layers.core import Dense, Dropout, Activation, Flatten\n",
    "from keras.layers import Conv2D, MaxPooling2D, BatchNormalization\n",
    "from keras.utils import np_utils\n",
    "from keras import backend, layers, models\n",
    "from PIL import Image\n",
    "import imageio\n",
    "import os\n",
    "%matplotlib inline"
   ]
  },
  {
   "cell_type": "code",
   "execution_count": 8,
   "metadata": {},
   "outputs": [],
   "source": [
    "#Expanding max range in Pandas (common practice)\n",
    "pd.set_option('display.max_rows',5000)\n",
    "pd.set_option('display.max_columns', 5000)\n",
    "pd.set_option('display.width', 5000)"
   ]
  },
  {
   "cell_type": "code",
   "execution_count": 9,
   "metadata": {},
   "outputs": [],
   "source": [
    "# This is to avoid getting hundreds of log messages\n",
    "os.environ['TF_CPP_MIN_LOG_LEVEL']='3'"
   ]
  },
  {
   "cell_type": "code",
   "execution_count": 10,
   "metadata": {},
   "outputs": [
    {
     "name": "stdout",
     "output_type": "stream",
     "text": [
      "Found 30000 images belonging to 2 classes.\n",
      "Found 5000 images belonging to 2 classes.\n",
      "Found 5000 images belonging to 2 classes.\n"
     ]
    }
   ],
   "source": [
    "# Get all the data in the directory, and reshape images.\n",
    "# NOTE: images are already a consistent size - 227 x 227\n",
    "# Multiply every value by 1/255 (this is scaling the data on a scale between 0-1)\n",
    "\n",
    "data_train = ImageDataGenerator(rescale=1/255).flow_from_directory( \n",
    "    '/Users/alexandercheng/Desktop/code/projects/crack-detection-data/Data/Train',\n",
    "    target_size=(256, 256), #squish images down to this size (images are already this size)\n",
    "    batch_size=30000, #we want batch size to be all of the images in the folder\n",
    "    shuffle=True,\n",
    "    seed=123)\n",
    "\n",
    "data_validation = ImageDataGenerator(rescale=1/255).flow_from_directory( \n",
    "    '/Users/alexandercheng/Desktop/code/projects/crack-detection-data/Data/Validation',\n",
    "    target_size=(256, 256),\n",
    "    batch_size=5000,\n",
    "    shuffle=True,\n",
    "    seed=123)\n",
    "\n",
    "data_test = ImageDataGenerator(rescale=1/255).flow_from_directory( \n",
    "    '/Users/alexandercheng/Desktop/code/projects/crack-detection-data/Data/Test',\n",
    "    target_size=(256, 256),\n",
    "    batch_size=5000,\n",
    "    shuffle=True,\n",
    "    seed=123)"
   ]
  },
  {
   "cell_type": "code",
   "execution_count": 5,
   "metadata": {},
   "outputs": [],
   "source": [
    "# Split images and labels...it is randomized.\n",
    "\n",
    "images_train, labels_train = next(data_train)\n",
    "images_validation, labels_validation = next(data_validation)\n",
    "images_test, labels_test = next(data_test)"
   ]
  },
  {
   "cell_type": "code",
   "execution_count": 6,
   "metadata": {},
   "outputs": [
    {
     "name": "stdout",
     "output_type": "stream",
     "text": [
      "TRAIN\n",
      "Images Shape (30000, 256, 256, 3)\n",
      "Labels Shape (30000, 2)\n",
      "VALIDATION\n",
      "Images Shape (5000, 256, 256, 3)\n",
      "Labels Shape (5000, 2)\n",
      "TEST\n",
      "Images Shape (5000, 256, 256, 3)\n",
      "Labels Shape (5000, 2)\n"
     ]
    }
   ],
   "source": [
    "# Check image and label shape.\n",
    "# Each image should now be reshaped into 256 pixels x 256 pixels x 3 colors (RGB).\n",
    "\n",
    "print('TRAIN')\n",
    "print('Images Shape', images_train.shape) #(30,000, 256, 256, 3)\n",
    "print('Labels Shape', labels_train.shape) #(30,000, 2)\n",
    "print('VALIDATION')\n",
    "print('Images Shape', images_validation.shape) #(5,000, 256, 256, 3)\n",
    "print('Labels Shape', labels_validation.shape)#(5,000, 2)\n",
    "print('TEST')\n",
    "print('Images Shape', images_test.shape) #(5,000, 256, 256, 3)\n",
    "print('Labels Shape', labels_test.shape) #(5,000, 2)"
   ]
  },
  {
   "cell_type": "code",
   "execution_count": 7,
   "metadata": {},
   "outputs": [],
   "source": [
    "saving_weights = keras.callbacks.ModelCheckpoint(\n",
    "    'weights.{epoch:02d}-{val_loss:.2f}.hdf5', #save our output as we go through.\n",
    "    monitor='val_loss', verbose=0, save_best_only=False, #for each epoch, give me the validation loss.\n",
    "    save_weights_only=False, mode='auto', period=10)\n",
    "\n",
    "reduce_lr = keras.callbacks.ReduceLROnPlateau( #lr = learning rate - we want a big step size up front to speed up the process, but smaller steps later on to ensure we don't overshoot the minimum)\n",
    "    monitor='val_loss', factor=0.1, patience=20,\n",
    "    verbose=0, mode='auto', min_delta=0.0001, min_lr=0)\n",
    "\n",
    "nan_problem = keras.callbacks.TerminateOnNaN()\n",
    "\n",
    "early_stop = keras.callbacks.EarlyStopping(\n",
    "    monitor='val_loss', min_delta=0, patience=20,\n",
    "    verbose=0, mode='auto', baseline=None, restore_best_weights=False)\n",
    "\n",
    "csv_logger = keras.callbacks.CSVLogger('training.log') #write information about my model to a file"
   ]
  },
  {
   "cell_type": "markdown",
   "metadata": {},
   "source": [
    "## Build The CNN"
   ]
  },
  {
   "cell_type": "markdown",
   "metadata": {},
   "source": [
    "### Load Pre-Trained Model"
   ]
  },
  {
   "cell_type": "markdown",
   "metadata": {},
   "source": [
    "**Which pre-trained model to use?**\n",
    "\n",
    "- **NASNetLarge** \n",
    "    - This model has the highest \"top 1\" and \"top 5\" accuracy on Keras documentation.\n",
    "    - But unfortunately...NASNetLarge(weights='imagenet') is forced to take only input_shape=(331, 331, 3).\n",
    "    - This is larger than our dataset's original image size...so we will choose a different base model.\n",
    "- **InceptionResNetV2**\n",
    "    - InceptionResNetV2 - has the 2nd highest \"top 1\" and \"top 5\" accuracy on Keras documentation.\n",
    "    - We wil try this model instead of NASNetLarge"
   ]
  },
  {
   "cell_type": "code",
   "execution_count": 10,
   "metadata": {},
   "outputs": [],
   "source": [
    "from keras.applications import InceptionResNetV2"
   ]
  },
  {
   "cell_type": "code",
   "execution_count": 11,
   "metadata": {},
   "outputs": [
    {
     "name": "stdout",
     "output_type": "stream",
     "text": [
      "Downloading data from https://github.com/fchollet/deep-learning-models/releases/download/v0.7/inception_resnet_v2_weights_tf_dim_ordering_tf_kernels_notop.h5\n",
      "219062272/219055592 [==============================] - 73s 0us/step\n"
     ]
    }
   ],
   "source": [
    "cnn_base = InceptionResNetV2(weights='imagenet', #None or \"imagenet\" - we want \"imagenet\" because we want the trained weights.\n",
    "                       include_top=False, #allows us to specify the input shape of our images\n",
    "                       input_shape=(256, 256, 3)) #since \"include_top=False\" we need to provide an input shape for our incoming image data."
   ]
  },
  {
   "cell_type": "markdown",
   "metadata": {},
   "source": [
    "### Build Model On Top Of Pre-Trained Model"
   ]
  },
  {
   "cell_type": "markdown",
   "metadata": {},
   "source": [
    "**NOTES ON BUILDING THE CNN**\n",
    "\n",
    "- **Activation Functions**\n",
    "    - **If you have a multi-label classification problem and there is more than one \"right answer\" and the outputs are NOT mutually exclusive, then use a sigmoid function** on each raw output independently. The sigmoid will allow you to have high probability for all of your classes, some of them, or none of them. Example: classifying diseases in a chest x-ray image. The image might contain pneumonia, emphysema, and/or cancer, or none of those findings.\n",
    "    - **If you have a multi-class classification problem and there is only one \"right answer\" and the outputs are mutually exclusive, then use a softmax function.** The softmax will enforce that the sum of the probabilities of your output classes are equal to one, so in order to increase the probability of a particular class, your model must correspondingly decrease the probability of at least one of the other classes. Example: classifying images from the MNIST data set of handwritten digits. A single picture of a digit has only one true identity - the picture cannot be a 7 and an 8 at the same time."
   ]
  },
  {
   "cell_type": "code",
   "execution_count": 28,
   "metadata": {},
   "outputs": [],
   "source": [
    "cnn_2 = models.Sequential() #instantiate model\n",
    "\n",
    "cnn_2.add(cnn_base) #add InceptionResNetV2 pre-trained model without top\n",
    "\n",
    "cnn_2.add(layers.Conv2D(64, (3, 3), #64 different filters, with a 3x3 filter.\n",
    "                      activation='relu', #use ReLu activation functions throughout, save sigmoid / softmax function for the end layer.\n",
    "                      input_shape=(256, 256,  3), #image shape input\n",
    "                      padding='SAME')) #\"valid\" means no padding, and \"same\" means with padding.\n",
    "\n",
    "# 64 bias parameters.\n",
    "# 64 * (3 * 3 * 3) weight parametrs.\n",
    "# Output is 64*256*256.\n",
    "\n",
    "cnn_2.add(layers.MaxPooling2D((2, 2))) #(2,2) reduces dimensionality of image by half.\n",
    "\n",
    "# Output is 64*128*128.\n",
    "# 32 nodes in this layer...no padding here.\n",
    "# Adding padding='SAME' here because InceptionResNetV2 downsamples the input image very aggressively...\n",
    "# And we would otherwise get a negative dimension size in the next pooling step.\n",
    "cnn_2.add(layers.Conv2D(32, (3, 3), activation='relu', padding='SAME')) \n",
    "\n",
    "# 32 bias parameters.\n",
    "# 32 * (3*3*64).\n",
    "# Output is 32*128*128.\n",
    "\n",
    "cnn_2.add(layers.MaxPooling2D((2, 2))) \n",
    "\n",
    "# Output is 32*64*64.\n",
    "# Flattening is converting the data into a 1-dimensional array for inputting it to the next layer. \n",
    "# We flatten the output of the convolutional layers to create a single long feature vector. \n",
    "# 32 x 64 x 64 = 131,072 features once flattened.\n",
    "cnn_2.add(layers.Flatten())\n",
    "\n",
    "# And the flattened data is connected to the final classification, fully-connected layers.\n",
    "# We simply put all the pixel data in one line and make connections with the final layer. \n",
    "# Dense fully connected layer.\n",
    "cnn_2.add(layers.Dense(32, activation='relu')) \n",
    "\n",
    "# Final layer does the classification.\n",
    "# A material cannot be both \"not cracked\" and \"cracked\" - it is either one or the other.\n",
    "# So we use a \"Softmax\" function for classification where there is only 1 \"right answer\".\n",
    "cnn_2.add(layers.Dense(2, activation='softmax')) "
   ]
  },
  {
   "cell_type": "markdown",
   "metadata": {},
   "source": [
    "## Freezing The Base"
   ]
  },
  {
   "cell_type": "markdown",
   "metadata": {},
   "source": [
    "### Examine Layers Of CNN"
   ]
  },
  {
   "cell_type": "code",
   "execution_count": 29,
   "metadata": {},
   "outputs": [
    {
     "name": "stdout",
     "output_type": "stream",
     "text": [
      "There are 8 trainable weights.\n",
      "\n",
      "There are 8 trainable layers.\n",
      "\n",
      "inception_resnet_v2 False\n",
      "conv2d_208 True\n",
      "max_pooling2d_9 True\n",
      "conv2d_209 True\n",
      "max_pooling2d_10 True\n",
      "flatten_2 True\n",
      "dense_3 True\n",
      "dense_4 True\n"
     ]
    }
   ],
   "source": [
    "#Check how many trainable weights are in the model\n",
    "print('There are', len(cnn_2.trainable_weights), 'trainable weights.')\n",
    "print()\n",
    "\n",
    "# Check how many layers are trainable\n",
    "print('There are', len(cnn_2.layers), 'trainable layers.')\n",
    "print()\n",
    "\n",
    "# Check which layers are trainable\n",
    "for layer in cnn_2.layers:\n",
    "    print(layer.name, layer.trainable)"
   ]
  },
  {
   "cell_type": "code",
   "execution_count": 30,
   "metadata": {},
   "outputs": [
    {
     "name": "stdout",
     "output_type": "stream",
     "text": [
      "inception_resnet_v2 False\n",
      "conv2d_208 True\n",
      "max_pooling2d_9 True\n",
      "conv2d_209 True\n",
      "max_pooling2d_10 True\n",
      "flatten_2 True\n",
      "dense_3 True\n",
      "dense_4 True\n"
     ]
    }
   ],
   "source": [
    "#freeze the base_cnn model, and double-check to make sure it's frozen.\n",
    "cnn_base.trainable = False\n",
    "for layer in cnn_2.layers:\n",
    "    print(layer.name, layer.trainable)"
   ]
  },
  {
   "cell_type": "code",
   "execution_count": 31,
   "metadata": {},
   "outputs": [],
   "source": [
    "cnn_2.compile(loss='binary_crossentropy',\n",
    "            optimizer=\"sgd\",\n",
    "            metrics=['acc'])"
   ]
  },
  {
   "cell_type": "markdown",
   "metadata": {},
   "source": [
    "## Fit Model"
   ]
  },
  {
   "cell_type": "code",
   "execution_count": 33,
   "metadata": {},
   "outputs": [
    {
     "name": "stdout",
     "output_type": "stream",
     "text": [
      "Train on 30000 samples, validate on 5000 samples\n",
      "Epoch 1/1\n",
      "30000/30000 [==============================] - 2757s 92ms/step - loss: 0.2894 - acc: 0.8886 - val_loss: 0.9511 - val_acc: 0.5136\n"
     ]
    }
   ],
   "source": [
    "cnn_2a = cnn_2.fit(images_train,\n",
    "               labels_train,\n",
    "               epochs=1,\n",
    "               batch_size=500,\n",
    "               validation_data=(images_validation, labels_validation),\n",
    "               callbacks=[csv_logger, early_stop, nan_problem, reduce_lr, saving_weights])"
   ]
  },
  {
   "cell_type": "code",
   "execution_count": 34,
   "metadata": {},
   "outputs": [
    {
     "data": {
      "image/png": "[encoded data removed]",
      "text/plain": [
       "<Figure size 1080x288 with 2 Axes>"
      ]
     },
     "metadata": {
      "needs_background": "light"
     },
     "output_type": "display_data"
    }
   ],
   "source": [
    "hist_cnn_2a = cnn_2a.history\n",
    "loss_values = hist_cnn_2a['loss']\n",
    "val_loss_values = hist_cnn_2a['val_loss']\n",
    "acc_values = hist_cnn_2a['acc']\n",
    "val_acc_values = hist_cnn_2a['val_acc']\n",
    "\n",
    "\n",
    "epochs = range(1, len(loss_values) + 1)\n",
    "\n",
    "plt.figure(figsize=(15, 4))\n",
    "plt.subplot(121)\n",
    "plt.plot(epochs, loss_values, 'g.', label='Training loss')\n",
    "plt.plot(epochs, val_loss_values, 'g', label='Validation loss')\n",
    "\n",
    "plt.title('Training and validation loss')\n",
    "plt.xlabel('Epochs')\n",
    "plt.ylabel('Loss')\n",
    "plt.legend()\n",
    "\n",
    "plt.subplot(122)\n",
    "plt.plot(epochs, acc_values, 'r.', label='Training acc')\n",
    "plt.plot(epochs, val_acc_values, 'r', label='Validation acc')\n",
    "plt.title('Training and validation accuracy')\n",
    "plt.xlabel('Epochs')\n",
    "plt.ylabel('Accuracy')\n",
    "plt.legend()\n",
    "plt.show()"
   ]
  },
  {
   "cell_type": "code",
   "execution_count": 37,
   "metadata": {},
   "outputs": [
    {
     "name": "stdout",
     "output_type": "stream",
     "text": [
      "Saved model to disk\n"
     ]
    }
   ],
   "source": [
    "cnn_2.save(\"cnn_2.h5\")\n",
    "print(\"Saved model to disk\")"
   ]
  },
  {
   "cell_type": "markdown",
   "metadata": {},
   "source": [
    "## Fine-Tuning"
   ]
  },
  {
   "cell_type": "code",
   "execution_count": 39,
   "metadata": {},
   "outputs": [],
   "source": [
    "cnn_base.trainable = True"
   ]
  },
  {
   "cell_type": "code",
   "execution_count": 51,
   "metadata": {},
   "outputs": [],
   "source": [
    "# Unfreeze cnn_base.\n",
    "cnn_base.trainable = True \n",
    "\n",
    "# Refreeze all layers except for the last block of layers.\n",
    "for layer in cnn_base.layers:\n",
    "    if 'block8' in layer.name:\n",
    "        layer.trainable = True\n",
    "    elif 'conv_7b' in layer.name:\n",
    "        layer.trainable = True\n",
    "    else:\n",
    "        layer.trainable = False"
   ]
  },
  {
   "cell_type": "code",
   "execution_count": 52,
   "metadata": {},
   "outputs": [
    {
     "name": "stdout",
     "output_type": "stream",
     "text": [
      "input_1 False\n",
      "conv2d_1 False\n",
      "batch_normalization_1 False\n",
      "activation_1 False\n",
      "conv2d_2 False\n",
      "batch_normalization_2 False\n",
      "activation_2 False\n",
      "conv2d_3 False\n",
      "batch_normalization_3 False\n",
      "activation_3 False\n",
      "max_pooling2d_1 False\n",
      "conv2d_4 False\n",
      "batch_normalization_4 False\n",
      "activation_4 False\n",
      "conv2d_5 False\n",
      "batch_normalization_5 False\n",
      "activation_5 False\n",
      "max_pooling2d_2 False\n",
      "conv2d_9 False\n",
      "batch_normalization_9 False\n",
      "activation_9 False\n",
      "conv2d_7 False\n",
      "conv2d_10 False\n",
      "batch_normalization_7 False\n",
      "batch_normalization_10 False\n",
      "activation_7 False\n",
      "activation_10 False\n",
      "average_pooling2d_1 False\n",
      "conv2d_6 False\n",
      "conv2d_8 False\n",
      "conv2d_11 False\n",
      "conv2d_12 False\n",
      "batch_normalization_6 False\n",
      "batch_normalization_8 False\n",
      "batch_normalization_11 False\n",
      "batch_normalization_12 False\n",
      "activation_6 False\n",
      "activation_8 False\n",
      "activation_11 False\n",
      "activation_12 False\n",
      "mixed_5b False\n",
      "conv2d_16 False\n",
      "batch_normalization_16 False\n",
      "activation_16 False\n",
      "conv2d_14 False\n",
      "conv2d_17 False\n",
      "batch_normalization_14 False\n",
      "batch_normalization_17 False\n",
      "activation_14 False\n",
      "activation_17 False\n",
      "conv2d_13 False\n",
      "conv2d_15 False\n",
      "conv2d_18 False\n",
      "batch_normalization_13 False\n",
      "batch_normalization_15 False\n",
      "batch_normalization_18 False\n",
      "activation_13 False\n",
      "activation_15 False\n",
      "activation_18 False\n",
      "block35_1_mixed False\n",
      "block35_1_conv False\n",
      "block35_1 False\n",
      "block35_1_ac False\n",
      "conv2d_22 False\n",
      "batch_normalization_22 False\n",
      "activation_22 False\n",
      "conv2d_20 False\n",
      "conv2d_23 False\n",
      "batch_normalization_20 False\n",
      "batch_normalization_23 False\n",
      "activation_20 False\n",
      "activation_23 False\n",
      "conv2d_19 False\n",
      "conv2d_21 False\n",
      "conv2d_24 False\n",
      "batch_normalization_19 False\n",
      "batch_normalization_21 False\n",
      "batch_normalization_24 False\n",
      "activation_19 False\n",
      "activation_21 False\n",
      "activation_24 False\n",
      "block35_2_mixed False\n",
      "block35_2_conv False\n",
      "block35_2 False\n",
      "block35_2_ac False\n",
      "conv2d_28 False\n",
      "batch_normalization_28 False\n",
      "activation_28 False\n",
      "conv2d_26 False\n",
      "conv2d_29 False\n",
      "batch_normalization_26 False\n",
      "batch_normalization_29 False\n",
      "activation_26 False\n",
      "activation_29 False\n",
      "conv2d_25 False\n",
      "conv2d_27 False\n",
      "conv2d_30 False\n",
      "batch_normalization_25 False\n",
      "batch_normalization_27 False\n",
      "batch_normalization_30 False\n",
      "activation_25 False\n",
      "activation_27 False\n",
      "activation_30 False\n",
      "block35_3_mixed False\n",
      "block35_3_conv False\n",
      "block35_3 False\n",
      "block35_3_ac False\n",
      "conv2d_34 False\n",
      "batch_normalization_34 False\n",
      "activation_34 False\n",
      "conv2d_32 False\n",
      "conv2d_35 False\n",
      "batch_normalization_32 False\n",
      "batch_normalization_35 False\n",
      "activation_32 False\n",
      "activation_35 False\n",
      "conv2d_31 False\n",
      "conv2d_33 False\n",
      "conv2d_36 False\n",
      "batch_normalization_31 False\n",
      "batch_normalization_33 False\n",
      "batch_normalization_36 False\n",
      "activation_31 False\n",
      "activation_33 False\n",
      "activation_36 False\n",
      "block35_4_mixed False\n",
      "block35_4_conv False\n",
      "block35_4 False\n",
      "block35_4_ac False\n",
      "conv2d_40 False\n",
      "batch_normalization_40 False\n",
      "activation_40 False\n",
      "conv2d_38 False\n",
      "conv2d_41 False\n",
      "batch_normalization_38 False\n",
      "batch_normalization_41 False\n",
      "activation_38 False\n",
      "activation_41 False\n",
      "conv2d_37 False\n",
      "conv2d_39 False\n",
      "conv2d_42 False\n",
      "batch_normalization_37 False\n",
      "batch_normalization_39 False\n",
      "batch_normalization_42 False\n",
      "activation_37 False\n",
      "activation_39 False\n",
      "activation_42 False\n",
      "block35_5_mixed False\n",
      "block35_5_conv False\n",
      "block35_5 False\n",
      "block35_5_ac False\n",
      "conv2d_46 False\n",
      "batch_normalization_46 False\n",
      "activation_46 False\n",
      "conv2d_44 False\n",
      "conv2d_47 False\n",
      "batch_normalization_44 False\n",
      "batch_normalization_47 False\n",
      "activation_44 False\n",
      "activation_47 False\n",
      "conv2d_43 False\n",
      "conv2d_45 False\n",
      "conv2d_48 False\n",
      "batch_normalization_43 False\n",
      "batch_normalization_45 False\n",
      "batch_normalization_48 False\n",
      "activation_43 False\n",
      "activation_45 False\n",
      "activation_48 False\n",
      "block35_6_mixed False\n",
      "block35_6_conv False\n",
      "block35_6 False\n",
      "block35_6_ac False\n",
      "conv2d_52 False\n",
      "batch_normalization_52 False\n",
      "activation_52 False\n",
      "conv2d_50 False\n",
      "conv2d_53 False\n",
      "batch_normalization_50 False\n",
      "batch_normalization_53 False\n",
      "activation_50 False\n",
      "activation_53 False\n",
      "conv2d_49 False\n",
      "conv2d_51 False\n",
      "conv2d_54 False\n",
      "batch_normalization_49 False\n",
      "batch_normalization_51 False\n",
      "batch_normalization_54 False\n",
      "activation_49 False\n",
      "activation_51 False\n",
      "activation_54 False\n",
      "block35_7_mixed False\n",
      "block35_7_conv False\n",
      "block35_7 False\n",
      "block35_7_ac False\n",
      "conv2d_58 False\n",
      "batch_normalization_58 False\n",
      "activation_58 False\n",
      "conv2d_56 False\n",
      "conv2d_59 False\n",
      "batch_normalization_56 False\n",
      "batch_normalization_59 False\n",
      "activation_56 False\n",
      "activation_59 False\n",
      "conv2d_55 False\n",
      "conv2d_57 False\n",
      "conv2d_60 False\n",
      "batch_normalization_55 False\n",
      "batch_normalization_57 False\n",
      "batch_normalization_60 False\n",
      "activation_55 False\n",
      "activation_57 False\n",
      "activation_60 False\n",
      "block35_8_mixed False\n",
      "block35_8_conv False\n",
      "block35_8 False\n",
      "block35_8_ac False\n",
      "conv2d_64 False\n",
      "batch_normalization_64 False\n",
      "activation_64 False\n",
      "conv2d_62 False\n",
      "conv2d_65 False\n",
      "batch_normalization_62 False\n",
      "batch_normalization_65 False\n",
      "activation_62 False\n",
      "activation_65 False\n",
      "conv2d_61 False\n",
      "conv2d_63 False\n",
      "conv2d_66 False\n",
      "batch_normalization_61 False\n",
      "batch_normalization_63 False\n",
      "batch_normalization_66 False\n",
      "activation_61 False\n",
      "activation_63 False\n",
      "activation_66 False\n",
      "block35_9_mixed False\n",
      "block35_9_conv False\n",
      "block35_9 False\n",
      "block35_9_ac False\n",
      "conv2d_70 False\n",
      "batch_normalization_70 False\n",
      "activation_70 False\n",
      "conv2d_68 False\n",
      "conv2d_71 False\n",
      "batch_normalization_68 False\n",
      "batch_normalization_71 False\n",
      "activation_68 False\n",
      "activation_71 False\n",
      "conv2d_67 False\n",
      "conv2d_69 False\n",
      "conv2d_72 False\n",
      "batch_normalization_67 False\n",
      "batch_normalization_69 False\n",
      "batch_normalization_72 False\n",
      "activation_67 False\n",
      "activation_69 False\n",
      "activation_72 False\n",
      "block35_10_mixed False\n",
      "block35_10_conv False\n",
      "block35_10 False\n",
      "block35_10_ac False\n",
      "conv2d_74 False\n",
      "batch_normalization_74 False\n",
      "activation_74 False\n",
      "conv2d_75 False\n",
      "batch_normalization_75 False\n",
      "activation_75 False\n",
      "conv2d_73 False\n",
      "conv2d_76 False\n",
      "batch_normalization_73 False\n",
      "batch_normalization_76 False\n",
      "activation_73 False\n",
      "activation_76 False\n",
      "max_pooling2d_3 False\n",
      "mixed_6a False\n",
      "conv2d_78 False\n",
      "batch_normalization_78 False\n",
      "activation_78 False\n",
      "conv2d_79 False\n",
      "batch_normalization_79 False\n",
      "activation_79 False\n",
      "conv2d_77 False\n",
      "conv2d_80 False\n",
      "batch_normalization_77 False\n",
      "batch_normalization_80 False\n",
      "activation_77 False\n",
      "activation_80 False\n",
      "block17_1_mixed False\n",
      "block17_1_conv False\n",
      "block17_1 False\n",
      "block17_1_ac False\n",
      "conv2d_82 False\n",
      "batch_normalization_82 False\n",
      "activation_82 False\n",
      "conv2d_83 False\n",
      "batch_normalization_83 False\n",
      "activation_83 False\n",
      "conv2d_81 False\n",
      "conv2d_84 False\n",
      "batch_normalization_81 False\n",
      "batch_normalization_84 False\n",
      "activation_81 False\n",
      "activation_84 False\n",
      "block17_2_mixed False\n",
      "block17_2_conv False\n",
      "block17_2 False\n",
      "block17_2_ac False\n",
      "conv2d_86 False\n",
      "batch_normalization_86 False\n",
      "activation_86 False\n",
      "conv2d_87 False\n",
      "batch_normalization_87 False\n",
      "activation_87 False\n",
      "conv2d_85 False\n",
      "conv2d_88 False\n",
      "batch_normalization_85 False\n",
      "batch_normalization_88 False\n",
      "activation_85 False\n",
      "activation_88 False\n",
      "block17_3_mixed False\n",
      "block17_3_conv False\n",
      "block17_3 False\n",
      "block17_3_ac False\n",
      "conv2d_90 False\n",
      "batch_normalization_90 False\n",
      "activation_90 False\n",
      "conv2d_91 False\n",
      "batch_normalization_91 False\n",
      "activation_91 False\n",
      "conv2d_89 False\n",
      "conv2d_92 False\n",
      "batch_normalization_89 False\n",
      "batch_normalization_92 False\n",
      "activation_89 False\n",
      "activation_92 False\n",
      "block17_4_mixed False\n",
      "block17_4_conv False\n",
      "block17_4 False\n",
      "block17_4_ac False\n",
      "conv2d_94 False\n",
      "batch_normalization_94 False\n",
      "activation_94 False\n",
      "conv2d_95 False\n",
      "batch_normalization_95 False\n",
      "activation_95 False\n",
      "conv2d_93 False\n",
      "conv2d_96 False\n",
      "batch_normalization_93 False\n",
      "batch_normalization_96 False\n",
      "activation_93 False\n",
      "activation_96 False\n",
      "block17_5_mixed False\n",
      "block17_5_conv False\n",
      "block17_5 False\n",
      "block17_5_ac False\n",
      "conv2d_98 False\n",
      "batch_normalization_98 False\n",
      "activation_98 False\n",
      "conv2d_99 False\n",
      "batch_normalization_99 False\n",
      "activation_99 False\n",
      "conv2d_97 False\n",
      "conv2d_100 False\n",
      "batch_normalization_97 False\n",
      "batch_normalization_100 False\n",
      "activation_97 False\n",
      "activation_100 False\n",
      "block17_6_mixed False\n",
      "block17_6_conv False\n",
      "block17_6 False\n",
      "block17_6_ac False\n",
      "conv2d_102 False\n",
      "batch_normalization_102 False\n",
      "activation_102 False\n",
      "conv2d_103 False\n",
      "batch_normalization_103 False\n",
      "activation_103 False\n",
      "conv2d_101 False\n",
      "conv2d_104 False\n",
      "batch_normalization_101 False\n",
      "batch_normalization_104 False\n",
      "activation_101 False\n",
      "activation_104 False\n",
      "block17_7_mixed False\n",
      "block17_7_conv False\n",
      "block17_7 False\n",
      "block17_7_ac False\n",
      "conv2d_106 False\n",
      "batch_normalization_106 False\n",
      "activation_106 False\n",
      "conv2d_107 False\n",
      "batch_normalization_107 False\n",
      "activation_107 False\n",
      "conv2d_105 False\n",
      "conv2d_108 False\n",
      "batch_normalization_105 False\n",
      "batch_normalization_108 False\n",
      "activation_105 False\n",
      "activation_108 False\n",
      "block17_8_mixed False\n",
      "block17_8_conv False\n",
      "block17_8 False\n",
      "block17_8_ac False\n",
      "conv2d_110 False\n",
      "batch_normalization_110 False\n",
      "activation_110 False\n",
      "conv2d_111 False\n",
      "batch_normalization_111 False\n",
      "activation_111 False\n",
      "conv2d_109 False\n",
      "conv2d_112 False\n",
      "batch_normalization_109 False\n",
      "batch_normalization_112 False\n",
      "activation_109 False\n",
      "activation_112 False\n",
      "block17_9_mixed False\n",
      "block17_9_conv False\n",
      "block17_9 False\n",
      "block17_9_ac False\n",
      "conv2d_114 False\n",
      "batch_normalization_114 False\n",
      "activation_114 False\n",
      "conv2d_115 False\n",
      "batch_normalization_115 False\n",
      "activation_115 False\n",
      "conv2d_113 False\n",
      "conv2d_116 False\n",
      "batch_normalization_113 False\n",
      "batch_normalization_116 False\n",
      "activation_113 False\n",
      "activation_116 False\n",
      "block17_10_mixed False\n",
      "block17_10_conv False\n",
      "block17_10 False\n",
      "block17_10_ac False\n",
      "conv2d_118 False\n",
      "batch_normalization_118 False\n",
      "activation_118 False\n",
      "conv2d_119 False\n",
      "batch_normalization_119 False\n",
      "activation_119 False\n",
      "conv2d_117 False\n",
      "conv2d_120 False\n",
      "batch_normalization_117 False\n",
      "batch_normalization_120 False\n",
      "activation_117 False\n",
      "activation_120 False\n",
      "block17_11_mixed False\n",
      "block17_11_conv False\n",
      "block17_11 False\n",
      "block17_11_ac False\n",
      "conv2d_122 False\n",
      "batch_normalization_122 False\n",
      "activation_122 False\n",
      "conv2d_123 False\n",
      "batch_normalization_123 False\n",
      "activation_123 False\n",
      "conv2d_121 False\n",
      "conv2d_124 False\n",
      "batch_normalization_121 False\n",
      "batch_normalization_124 False\n",
      "activation_121 False\n",
      "activation_124 False\n",
      "block17_12_mixed False\n",
      "block17_12_conv False\n",
      "block17_12 False\n",
      "block17_12_ac False\n",
      "conv2d_126 False\n",
      "batch_normalization_126 False\n",
      "activation_126 False\n",
      "conv2d_127 False\n",
      "batch_normalization_127 False\n",
      "activation_127 False\n",
      "conv2d_125 False\n",
      "conv2d_128 False\n",
      "batch_normalization_125 False\n",
      "batch_normalization_128 False\n",
      "activation_125 False\n",
      "activation_128 False\n",
      "block17_13_mixed False\n",
      "block17_13_conv False\n",
      "block17_13 False\n",
      "block17_13_ac False\n",
      "conv2d_130 False\n",
      "batch_normalization_130 False\n",
      "activation_130 False\n",
      "conv2d_131 False\n",
      "batch_normalization_131 False\n",
      "activation_131 False\n",
      "conv2d_129 False\n",
      "conv2d_132 False\n",
      "batch_normalization_129 False\n",
      "batch_normalization_132 False\n",
      "activation_129 False\n",
      "activation_132 False\n",
      "block17_14_mixed False\n",
      "block17_14_conv False\n",
      "block17_14 False\n",
      "block17_14_ac False\n",
      "conv2d_134 False\n",
      "batch_normalization_134 False\n",
      "activation_134 False\n",
      "conv2d_135 False\n",
      "batch_normalization_135 False\n",
      "activation_135 False\n",
      "conv2d_133 False\n",
      "conv2d_136 False\n",
      "batch_normalization_133 False\n",
      "batch_normalization_136 False\n",
      "activation_133 False\n",
      "activation_136 False\n",
      "block17_15_mixed False\n",
      "block17_15_conv False\n",
      "block17_15 False\n",
      "block17_15_ac False\n",
      "conv2d_138 False\n",
      "batch_normalization_138 False\n",
      "activation_138 False\n",
      "conv2d_139 False\n",
      "batch_normalization_139 False\n",
      "activation_139 False\n",
      "conv2d_137 False\n",
      "conv2d_140 False\n",
      "batch_normalization_137 False\n",
      "batch_normalization_140 False\n",
      "activation_137 False\n",
      "activation_140 False\n",
      "block17_16_mixed False\n",
      "block17_16_conv False\n",
      "block17_16 False\n",
      "block17_16_ac False\n",
      "conv2d_142 False\n",
      "batch_normalization_142 False\n",
      "activation_142 False\n",
      "conv2d_143 False\n",
      "batch_normalization_143 False\n",
      "activation_143 False\n",
      "conv2d_141 False\n",
      "conv2d_144 False\n",
      "batch_normalization_141 False\n",
      "batch_normalization_144 False\n",
      "activation_141 False\n",
      "activation_144 False\n",
      "block17_17_mixed False\n",
      "block17_17_conv False\n",
      "block17_17 False\n",
      "block17_17_ac False\n",
      "conv2d_146 False\n",
      "batch_normalization_146 False\n",
      "activation_146 False\n",
      "conv2d_147 False\n",
      "batch_normalization_147 False\n",
      "activation_147 False\n",
      "conv2d_145 False\n",
      "conv2d_148 False\n",
      "batch_normalization_145 False\n",
      "batch_normalization_148 False\n",
      "activation_145 False\n",
      "activation_148 False\n",
      "block17_18_mixed False\n",
      "block17_18_conv False\n",
      "block17_18 False\n",
      "block17_18_ac False\n",
      "conv2d_150 False\n",
      "batch_normalization_150 False\n",
      "activation_150 False\n",
      "conv2d_151 False\n",
      "batch_normalization_151 False\n",
      "activation_151 False\n",
      "conv2d_149 False\n",
      "conv2d_152 False\n",
      "batch_normalization_149 False\n",
      "batch_normalization_152 False\n",
      "activation_149 False\n",
      "activation_152 False\n",
      "block17_19_mixed False\n",
      "block17_19_conv False\n",
      "block17_19 False\n",
      "block17_19_ac False\n",
      "conv2d_154 False\n",
      "batch_normalization_154 False\n",
      "activation_154 False\n",
      "conv2d_155 False\n",
      "batch_normalization_155 False\n",
      "activation_155 False\n",
      "conv2d_153 False\n",
      "conv2d_156 False\n",
      "batch_normalization_153 False\n",
      "batch_normalization_156 False\n",
      "activation_153 False\n",
      "activation_156 False\n",
      "block17_20_mixed False\n",
      "block17_20_conv False\n",
      "block17_20 False\n",
      "block17_20_ac False\n",
      "conv2d_161 False\n",
      "batch_normalization_161 False\n",
      "activation_161 False\n",
      "conv2d_157 False\n",
      "conv2d_159 False\n",
      "conv2d_162 False\n",
      "batch_normalization_157 False\n",
      "batch_normalization_159 False\n",
      "batch_normalization_162 False\n",
      "activation_157 False\n",
      "activation_159 False\n",
      "activation_162 False\n",
      "conv2d_158 False\n",
      "conv2d_160 False\n",
      "conv2d_163 False\n",
      "batch_normalization_158 False\n",
      "batch_normalization_160 False\n",
      "batch_normalization_163 False\n",
      "activation_158 False\n",
      "activation_160 False\n",
      "activation_163 False\n",
      "max_pooling2d_4 False\n",
      "mixed_7a False\n",
      "conv2d_165 False\n",
      "batch_normalization_165 False\n",
      "activation_165 False\n",
      "conv2d_166 False\n",
      "batch_normalization_166 False\n",
      "activation_166 False\n",
      "conv2d_164 False\n",
      "conv2d_167 False\n",
      "batch_normalization_164 False\n",
      "batch_normalization_167 False\n",
      "activation_164 False\n",
      "activation_167 False\n",
      "block8_1_mixed True\n",
      "block8_1_conv True\n",
      "block8_1 True\n",
      "block8_1_ac True\n",
      "conv2d_169 False\n",
      "batch_normalization_169 False\n",
      "activation_169 False\n",
      "conv2d_170 False\n",
      "batch_normalization_170 False\n",
      "activation_170 False\n",
      "conv2d_168 False\n",
      "conv2d_171 False\n",
      "batch_normalization_168 False\n",
      "batch_normalization_171 False\n",
      "activation_168 False\n",
      "activation_171 False\n",
      "block8_2_mixed True\n",
      "block8_2_conv True\n",
      "block8_2 True\n",
      "block8_2_ac True\n",
      "conv2d_173 False\n",
      "batch_normalization_173 False\n",
      "activation_173 False\n",
      "conv2d_174 False\n",
      "batch_normalization_174 False\n",
      "activation_174 False\n",
      "conv2d_172 False\n",
      "conv2d_175 False\n",
      "batch_normalization_172 False\n",
      "batch_normalization_175 False\n",
      "activation_172 False\n",
      "activation_175 False\n",
      "block8_3_mixed True\n",
      "block8_3_conv True\n",
      "block8_3 True\n",
      "block8_3_ac True\n",
      "conv2d_177 False\n",
      "batch_normalization_177 False\n",
      "activation_177 False\n",
      "conv2d_178 False\n",
      "batch_normalization_178 False\n",
      "activation_178 False\n",
      "conv2d_176 False\n",
      "conv2d_179 False\n",
      "batch_normalization_176 False\n",
      "batch_normalization_179 False\n",
      "activation_176 False\n",
      "activation_179 False\n",
      "block8_4_mixed True\n",
      "block8_4_conv True\n",
      "block8_4 True\n",
      "block8_4_ac True\n",
      "conv2d_181 False\n",
      "batch_normalization_181 False\n",
      "activation_181 False\n",
      "conv2d_182 False\n",
      "batch_normalization_182 False\n",
      "activation_182 False\n",
      "conv2d_180 False\n",
      "conv2d_183 False\n",
      "batch_normalization_180 False\n",
      "batch_normalization_183 False\n",
      "activation_180 False\n",
      "activation_183 False\n",
      "block8_5_mixed True\n",
      "block8_5_conv True\n",
      "block8_5 True\n",
      "block8_5_ac True\n",
      "conv2d_185 False\n",
      "batch_normalization_185 False\n",
      "activation_185 False\n",
      "conv2d_186 False\n",
      "batch_normalization_186 False\n",
      "activation_186 False\n",
      "conv2d_184 False\n",
      "conv2d_187 False\n",
      "batch_normalization_184 False\n",
      "batch_normalization_187 False\n",
      "activation_184 False\n",
      "activation_187 False\n",
      "block8_6_mixed True\n",
      "block8_6_conv True\n",
      "block8_6 True\n",
      "block8_6_ac True\n",
      "conv2d_189 False\n",
      "batch_normalization_189 False\n",
      "activation_189 False\n",
      "conv2d_190 False\n",
      "batch_normalization_190 False\n",
      "activation_190 False\n",
      "conv2d_188 False\n",
      "conv2d_191 False\n",
      "batch_normalization_188 False\n",
      "batch_normalization_191 False\n",
      "activation_188 False\n",
      "activation_191 False\n",
      "block8_7_mixed True\n",
      "block8_7_conv True\n",
      "block8_7 True\n",
      "block8_7_ac True\n",
      "conv2d_193 False\n",
      "batch_normalization_193 False\n",
      "activation_193 False\n",
      "conv2d_194 False\n",
      "batch_normalization_194 False\n",
      "activation_194 False\n",
      "conv2d_192 False\n",
      "conv2d_195 False\n",
      "batch_normalization_192 False\n",
      "batch_normalization_195 False\n",
      "activation_192 False\n",
      "activation_195 False\n",
      "block8_8_mixed True\n",
      "block8_8_conv True\n",
      "block8_8 True\n",
      "block8_8_ac True\n",
      "conv2d_197 False\n",
      "batch_normalization_197 False\n",
      "activation_197 False\n",
      "conv2d_198 False\n",
      "batch_normalization_198 False\n",
      "activation_198 False\n",
      "conv2d_196 False\n",
      "conv2d_199 False\n",
      "batch_normalization_196 False\n",
      "batch_normalization_199 False\n",
      "activation_196 False\n",
      "activation_199 False\n",
      "block8_9_mixed True\n",
      "block8_9_conv True\n",
      "block8_9 True\n",
      "block8_9_ac True\n",
      "conv2d_201 False\n",
      "batch_normalization_201 False\n",
      "activation_201 False\n",
      "conv2d_202 False\n",
      "batch_normalization_202 False\n",
      "activation_202 False\n",
      "conv2d_200 False\n",
      "conv2d_203 False\n",
      "batch_normalization_200 False\n",
      "batch_normalization_203 False\n",
      "activation_200 False\n",
      "activation_203 False\n",
      "block8_10_mixed True\n",
      "block8_10_conv True\n",
      "block8_10 True\n",
      "conv_7b True\n",
      "conv_7b_bn True\n",
      "conv_7b_ac True\n"
     ]
    }
   ],
   "source": [
    "#Double check that we unfroze only the last block of layers for the base_cnn.\n",
    "for layer in cnn_base.layers:\n",
    "    print(layer.name, layer.trainable)"
   ]
  },
  {
   "cell_type": "code",
   "execution_count": 53,
   "metadata": {},
   "outputs": [],
   "source": [
    "cnn_2.compile(loss='binary_crossentropy',\n",
    "            optimizer=\"sgd\",\n",
    "            metrics=['acc'])"
   ]
  },
  {
   "cell_type": "code",
   "execution_count": 54,
   "metadata": {},
   "outputs": [
    {
     "name": "stdout",
     "output_type": "stream",
     "text": [
      "Train on 30000 samples, validate on 5000 samples\n",
      "Epoch 1/1\n",
      "30000/30000 [==============================] - 3257s 109ms/step - loss: 0.0482 - acc: 0.9856 - val_loss: 0.3342 - val_acc: 0.8072\n"
     ]
    }
   ],
   "source": [
    "cnn_2b = cnn_2.fit(images_train,\n",
    "               labels_train,\n",
    "               epochs=1,\n",
    "               batch_size=500,\n",
    "               validation_data=(images_validation, labels_validation),\n",
    "               callbacks=[csv_logger, early_stop, nan_problem, reduce_lr, saving_weights])"
   ]
  },
  {
   "cell_type": "code",
   "execution_count": 57,
   "metadata": {},
   "outputs": [
    {
     "data": {
      "image/png": "[encoded data removed]",
      "text/plain": [
       "<Figure size 1080x288 with 2 Axes>"
      ]
     },
     "metadata": {
      "needs_background": "light"
     },
     "output_type": "display_data"
    }
   ],
   "source": [
    "hist_cnn_2b = cnn_2b.history\n",
    "loss_values = hist_cnn_2b['loss']\n",
    "val_loss_values = hist_cnn_2b['val_loss']\n",
    "acc_values = hist_cnn_2b['acc']\n",
    "val_acc_values = hist_cnn_2b['val_acc']\n",
    "\n",
    "\n",
    "epochs = range(1, len(loss_values) + 1)\n",
    "\n",
    "plt.figure(figsize=(15, 4))\n",
    "plt.subplot(121)\n",
    "plt.plot(epochs, loss_values, 'g.', label='Training loss')\n",
    "plt.plot(epochs, val_loss_values, 'g', label='Validation loss')\n",
    "\n",
    "plt.title('Training and validation loss')\n",
    "plt.xlabel('Epochs')\n",
    "plt.ylabel('Loss')\n",
    "plt.legend()\n",
    "\n",
    "plt.subplot(122)\n",
    "plt.plot(epochs, acc_values, 'r.', label='Training acc')\n",
    "plt.plot(epochs, val_acc_values, 'r', label='Validation acc')\n",
    "plt.title('Training and validation accuracy')\n",
    "plt.xlabel('Epochs')\n",
    "plt.ylabel('Accuracy')\n",
    "plt.legend()\n",
    "plt.show()"
   ]
  },
  {
   "cell_type": "code",
   "execution_count": 55,
   "metadata": {
    "scrolled": true
   },
   "outputs": [
    {
     "name": "stdout",
     "output_type": "stream",
     "text": [
      "Saved model to disk\n"
     ]
    }
   ],
   "source": [
    "cnn_2.save(\"cnn_2_tuned.h5\")\n",
    "print(\"Saved model to disk\")"
   ]
  },
  {
   "cell_type": "markdown",
   "metadata": {},
   "source": [
    "## Try More Epochs With Fine-Tuned Model"
   ]
  },
  {
   "cell_type": "code",
   "execution_count": 58,
   "metadata": {},
   "outputs": [
    {
     "name": "stdout",
     "output_type": "stream",
     "text": [
      "Train on 30000 samples, validate on 5000 samples\n",
      "Epoch 1/10\n",
      "30000/30000 [==============================] - 2992s 100ms/step - loss: 0.0277 - acc: 0.9913 - val_loss: 0.1504 - val_acc: 0.9606\n",
      "Epoch 2/10\n",
      "30000/30000 [==============================] - 2995s 100ms/step - loss: 0.0195 - acc: 0.9942 - val_loss: 0.0847 - val_acc: 0.9742\n",
      "Epoch 3/10\n",
      "30000/30000 [==============================] - 2999s 100ms/step - loss: 0.0155 - acc: 0.9954 - val_loss: 0.0461 - val_acc: 0.9868\n",
      "Epoch 4/10\n",
      "30000/30000 [==============================] - 2989s 100ms/step - loss: 0.0117 - acc: 0.9969 - val_loss: 0.0338 - val_acc: 0.9888\n",
      "Epoch 5/10\n",
      "30000/30000 [==============================] - 2998s 100ms/step - loss: 0.0103 - acc: 0.9973 - val_loss: 0.0233 - val_acc: 0.9934\n",
      "Epoch 6/10\n",
      "30000/30000 [==============================] - 2987s 100ms/step - loss: 0.0088 - acc: 0.9976 - val_loss: 0.0195 - val_acc: 0.9948\n",
      "Epoch 7/10\n",
      "30000/30000 [==============================] - 3001s 100ms/step - loss: 0.0071 - acc: 0.9983 - val_loss: 0.0169 - val_acc: 0.9952\n",
      "Epoch 8/10\n",
      "30000/30000 [==============================] - 3005s 100ms/step - loss: 0.0067 - acc: 0.9983 - val_loss: 0.0164 - val_acc: 0.9946\n",
      "Epoch 9/10\n",
      "30000/30000 [==============================] - 2996s 100ms/step - loss: 0.0054 - acc: 0.9989 - val_loss: 0.0151 - val_acc: 0.9956\n",
      "Epoch 10/10\n",
      "30000/30000 [==============================] - 3002s 100ms/step - loss: 0.0049 - acc: 0.9990 - val_loss: 0.0148 - val_acc: 0.9960\n"
     ]
    }
   ],
   "source": [
    "cnn_2c = cnn_2.fit(images_train,\n",
    "               labels_train,\n",
    "               epochs=10,\n",
    "               batch_size=500,\n",
    "               validation_data=(images_validation, labels_validation),\n",
    "               callbacks=[csv_logger, early_stop, nan_problem, reduce_lr, saving_weights])"
   ]
  },
  {
   "cell_type": "code",
   "execution_count": 170,
   "metadata": {},
   "outputs": [],
   "source": [
    "hist_cnn_2c = cnn_2c.history\n",
    "loss_values = hist_cnn_2c['loss']\n",
    "val_loss_values = hist_cnn_2c['val_loss']\n",
    "acc_values = hist_cnn_2c['acc']\n",
    "val_acc_values = hist_cnn_2c['val_acc']\n",
    "epochs = range(1, len(loss_values) + 1)"
   ]
  },
  {
   "cell_type": "code",
   "execution_count": 169,
   "metadata": {
    "scrolled": false
   },
   "outputs": [
    {
     "data": {
      "image/png": "[encoded data removed]",
      "text/plain": [
       "<Figure size 720x504 with 1 Axes>"
      ]
     },
     "metadata": {},
     "output_type": "display_data"
    }
   ],
   "source": [
    "plt.figure(figsize=(10, 7))\n",
    "ax = plt.subplot()\n",
    "sns.set(style='whitegrid', font_scale=1)\n",
    "ax.xaxis.set_major_locator(ticker.MultipleLocator(1))\n",
    "ax.yaxis.set_major_locator(ticker.MultipleLocator(.01))\n",
    "sns.lineplot(epochs, loss_values, label='Training Loss', linewidth=2, marker='o', markersize=8, color='grey')\n",
    "sns.lineplot(epochs, val_loss_values, label='Validation Loss', linewidth=2, marker='o', markersize=8, color='purple')\n",
    "plt.title('Training + Validation Loss', size=20, weight='bold')\n",
    "plt.xlabel('Epochs', size=15, weight='bold')\n",
    "plt.ylabel('Loss', size=15, weight='bold')\n",
    "plt.axis([0,11,0,.16])\n",
    "plt.legend()\n",
    "plt.show()\n",
    "# plt.savefig('cnn_InceptionResNetV2_tuned_loss.pdf')"
   ]
  },
  {
   "cell_type": "code",
   "execution_count": 168,
   "metadata": {},
   "outputs": [
    {
     "data": {
      "image/png": "[encoded data removed]",
      "text/plain": [
       "<Figure size 720x504 with 1 Axes>"
      ]
     },
     "metadata": {},
     "output_type": "display_data"
    }
   ],
   "source": [
    "plt.figure(figsize=(10, 7))\n",
    "ax = plt.subplot()\n",
    "sns.set(style='whitegrid', font_scale=1)\n",
    "ax.xaxis.set_major_locator(ticker.MultipleLocator(1))\n",
    "ax.yaxis.set_major_locator(ticker.MultipleLocator(.005))\n",
    "sns.lineplot(epochs, acc_values, label='Training Accuracy', linewidth=2, marker='o', markersize=8, color='grey')\n",
    "sns.lineplot(epochs, val_acc_values, label='Validation Accuracy', linewidth=2, marker='o', markersize=8, color='purple')\n",
    "plt.title('Training + Validation Accuracy', size=20, weight='bold')\n",
    "plt.xlabel('Epochs', size=15, weight='bold')\n",
    "plt.ylabel('Accuracy', size=15, weight='bold')\n",
    "plt.axis([0,11,.95,1])\n",
    "plt.legend()\n",
    "plt.show()\n",
    "# plt.savefig('cnn_InceptionResNetV2_tuned_accuracy.pdf')"
   ]
  },
  {
   "cell_type": "markdown",
   "metadata": {},
   "source": [
    "## Test Model"
   ]
  },
  {
   "cell_type": "code",
   "execution_count": 60,
   "metadata": {},
   "outputs": [
    {
     "name": "stdout",
     "output_type": "stream",
     "text": [
      "Saved model to disk\n"
     ]
    }
   ],
   "source": [
    "cnn_2.save(\"cnn_2_tuned.h5\")\n",
    "print(\"Saved model to disk\")"
   ]
  },
  {
   "cell_type": "code",
   "execution_count": 7,
   "metadata": {},
   "outputs": [],
   "source": [
    "cnn_loaded = load_model('cnn_2_tuned.h5')"
   ]
  },
  {
   "cell_type": "code",
   "execution_count": 11,
   "metadata": {},
   "outputs": [],
   "source": [
    "images_test, labels_test = next(data_test)"
   ]
  },
  {
   "cell_type": "code",
   "execution_count": 12,
   "metadata": {},
   "outputs": [
    {
     "name": "stdout",
     "output_type": "stream",
     "text": [
      "5000/5000 [==============================] - 360s 72ms/step\n"
     ]
    },
    {
     "data": {
      "text/plain": [
       "[0.017047405107133092, 0.9937999844551086]"
      ]
     },
     "execution_count": 12,
     "metadata": {},
     "output_type": "execute_result"
    }
   ],
   "source": [
    "cnn_loaded.evaluate(images_test, labels_test)"
   ]
  },
  {
   "cell_type": "code",
   "execution_count": 13,
   "metadata": {},
   "outputs": [],
   "source": [
    "y_pred = cnn_loaded.predict(images_test)"
   ]
  },
  {
   "cell_type": "code",
   "execution_count": 14,
   "metadata": {},
   "outputs": [
    {
     "data": {
      "text/html": [
       "<div>\n",
       "<style scoped>\n",
       "    .dataframe tbody tr th:only-of-type {\n",
       "        vertical-align: middle;\n",
       "    }\n",
       "\n",
       "    .dataframe tbody tr th {\n",
       "        vertical-align: top;\n",
       "    }\n",
       "\n",
       "    .dataframe thead th {\n",
       "        text-align: right;\n",
       "    }\n",
       "</style>\n",
       "<table border=\"1\" class=\"dataframe\">\n",
       "  <thead>\n",
       "    <tr style=\"text-align: right;\">\n",
       "      <th></th>\n",
       "      <th>Predicted Cracked</th>\n",
       "      <th>Predicted Not Cracked</th>\n",
       "    </tr>\n",
       "  </thead>\n",
       "  <tbody>\n",
       "    <tr>\n",
       "      <td>Actual Cracked</td>\n",
       "      <td>2479</td>\n",
       "      <td>21</td>\n",
       "    </tr>\n",
       "    <tr>\n",
       "      <td>Actual Not Cracked</td>\n",
       "      <td>10</td>\n",
       "      <td>2490</td>\n",
       "    </tr>\n",
       "  </tbody>\n",
       "</table>\n",
       "</div>"
      ],
      "text/plain": [
       "                    Predicted Cracked  Predicted Not Cracked\n",
       "Actual Cracked                   2479                     21\n",
       "Actual Not Cracked                 10                   2490"
      ]
     },
     "execution_count": 14,
     "metadata": {},
     "output_type": "execute_result"
    }
   ],
   "source": [
    "conf_matrix = pd.DataFrame(\n",
    "    confusion_matrix(\n",
    "        np.argmax(labels_test, axis=1),\n",
    "        np.argmax(y_pred, axis=1)\n",
    "    ),\n",
    "    index = ['Actual Cracked', 'Actual Not Cracked'], \n",
    "    columns = ['Predicted Cracked', 'Predicted Not Cracked']\n",
    ")\n",
    "conf_matrix"
   ]
  },
  {
   "cell_type": "code",
   "execution_count": 15,
   "metadata": {},
   "outputs": [
    {
     "data": {
      "text/plain": [
       "0.9916"
      ]
     },
     "execution_count": 15,
     "metadata": {},
     "output_type": "execute_result"
    }
   ],
   "source": [
    "#recall\n",
    "2479/(2479+21)"
   ]
  },
  {
   "cell_type": "code",
   "execution_count": 16,
   "metadata": {},
   "outputs": [
    {
     "data": {
      "text/plain": [
       "0.9959823222177582"
      ]
     },
     "execution_count": 16,
     "metadata": {},
     "output_type": "execute_result"
    }
   ],
   "source": [
    "#precision\n",
    "2479/(2479+10)"
   ]
  },
  {
   "cell_type": "code",
   "execution_count": 17,
   "metadata": {},
   "outputs": [
    {
     "data": {
      "text/plain": [
       "0.9938"
      ]
     },
     "execution_count": 17,
     "metadata": {},
     "output_type": "execute_result"
    }
   ],
   "source": [
    "#accuracy\n",
    "(2479+2490)/(2479+2490+10+21)"
   ]
  },
  {
   "cell_type": "code",
   "execution_count": 18,
   "metadata": {},
   "outputs": [
    {
     "data": {
      "text/plain": [
       "0.996"
      ]
     },
     "execution_count": 18,
     "metadata": {},
     "output_type": "execute_result"
    }
   ],
   "source": [
    "#true negative rate\n",
    "2490/(2490+10)"
   ]
  }
 ],
 "metadata": {
  "kernelspec": {
   "display_name": "Python 3",
   "language": "python",
   "name": "python3"
  },
  "language_info": {
   "codemirror_mode": {
    "name": "ipython",
    "version": 3
   },
   "file_extension": ".py",
   "mimetype": "text/x-python",
   "name": "python",
   "nbconvert_exporter": "python",
   "pygments_lexer": "ipython3",
   "version": "3.7.4"
  },
  "toc": {
   "base_numbering": 1,
   "nav_menu": {},
   "number_sections": true,
   "sideBar": true,
   "skip_h1_title": false,
   "title_cell": "Table of Contents",
   "title_sidebar": "Contents",
   "toc_cell": false,
   "toc_position": {},
   "toc_section_display": true,
   "toc_window_display": false
  }
 },
 "nbformat": 4,
 "nbformat_minor": 2
}
