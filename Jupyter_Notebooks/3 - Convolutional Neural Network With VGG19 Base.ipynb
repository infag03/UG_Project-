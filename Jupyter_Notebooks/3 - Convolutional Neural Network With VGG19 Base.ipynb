{
 "cells": [
  {
   "cell_type": "markdown",
   "metadata": {},
   "source": [
    "# Convolutional Neural Network With VGG19 Base"
   ]
  },
  {
   "cell_type": "markdown",
   "metadata": {
    "toc": true
   },
   "source": [
    "<h1>Table of Contents<span class=\"tocSkip\"></span></h1>\n",
    "<div class=\"toc\"><ul class=\"toc-item\"><li><span><a href=\"#Setup\" data-toc-modified-id=\"Setup-1\"><span class=\"toc-item-num\">1&nbsp;&nbsp;</span>Setup</a></span><ul class=\"toc-item\"><li><span><a href=\"#Import-Libraries\" data-toc-modified-id=\"Import-Libraries-1.1\"><span class=\"toc-item-num\">1.1&nbsp;&nbsp;</span>Import Libraries</a></span></li><li><span><a href=\"#Expand-max-rows,-columns,-width\" data-toc-modified-id=\"Expand-max-rows,-columns,-width-1.2\"><span class=\"toc-item-num\">1.2&nbsp;&nbsp;</span>Expand max rows, columns, width</a></span></li><li><span><a href=\"#Configure-OS-to-reduce-messages\" data-toc-modified-id=\"Configure-OS-to-reduce-messages-1.3\"><span class=\"toc-item-num\">1.3&nbsp;&nbsp;</span>Configure OS to reduce messages</a></span></li></ul></li><li><span><a href=\"#Import-Data\" data-toc-modified-id=\"Import-Data-2\"><span class=\"toc-item-num\">2&nbsp;&nbsp;</span>Import Data</a></span><ul class=\"toc-item\"><li><span><a href=\"#Assign-all-data-to-train,-validation,-and-test\" data-toc-modified-id=\"Assign-all-data-to-train,-validation,-and-test-2.1\"><span class=\"toc-item-num\">2.1&nbsp;&nbsp;</span>Assign all data to train, validation, and test</a></span></li><li><span><a href=\"#Get-images-&amp;-labels-assigned-to-variables\" data-toc-modified-id=\"Get-images-&amp;-labels-assigned-to-variables-2.2\"><span class=\"toc-item-num\">2.2&nbsp;&nbsp;</span>Get images &amp; labels assigned to variables</a></span></li><li><span><a href=\"#Create-Keras-&quot;Callbacks&quot;-To-Customize-Training-+-Output\" data-toc-modified-id=\"Create-Keras-&quot;Callbacks&quot;-To-Customize-Training-+-Output-2.3\"><span class=\"toc-item-num\">2.3&nbsp;&nbsp;</span>Create Keras \"Callbacks\" To Customize Training + Output</a></span></li></ul></li><li><span><a href=\"#Build-The-CNN\" data-toc-modified-id=\"Build-The-CNN-3\"><span class=\"toc-item-num\">3&nbsp;&nbsp;</span>Build The CNN</a></span><ul class=\"toc-item\"><li><span><a href=\"#Load-Pre-Trained-Model\" data-toc-modified-id=\"Load-Pre-Trained-Model-3.1\"><span class=\"toc-item-num\">3.1&nbsp;&nbsp;</span>Load Pre-Trained Model</a></span></li><li><span><a href=\"#Build-Model-On-Top-Of-Pre-Trained-Model\" data-toc-modified-id=\"Build-Model-On-Top-Of-Pre-Trained-Model-3.2\"><span class=\"toc-item-num\">3.2&nbsp;&nbsp;</span>Build Model On Top Of Pre-Trained Model</a></span></li></ul></li><li><span><a href=\"#Freezing-The-Base\" data-toc-modified-id=\"Freezing-The-Base-4\"><span class=\"toc-item-num\">4&nbsp;&nbsp;</span>Freezing The Base</a></span><ul class=\"toc-item\"><li><span><a href=\"#Examine-Layers-Of-CNN\" data-toc-modified-id=\"Examine-Layers-Of-CNN-4.1\"><span class=\"toc-item-num\">4.1&nbsp;&nbsp;</span>Examine Layers Of CNN</a></span></li><li><span><a href=\"#Freeze-Base-CNN-model\" data-toc-modified-id=\"Freeze-Base-CNN-model-4.2\"><span class=\"toc-item-num\">4.2&nbsp;&nbsp;</span>Freeze Base CNN model</a></span></li></ul></li><li><span><a href=\"#Fine-Tuning\" data-toc-modified-id=\"Fine-Tuning-5\"><span class=\"toc-item-num\">5&nbsp;&nbsp;</span>Fine-Tuning</a></span><ul class=\"toc-item\"><li><span><a href=\"#Take-a-look-at-the-base-CNN-architecture\" data-toc-modified-id=\"Take-a-look-at-the-base-CNN-architecture-5.1\"><span class=\"toc-item-num\">5.1&nbsp;&nbsp;</span>Take a look at the base CNN architecture</a></span></li><li><span><a href=\"#Refreeze-all-layers-except-for-last-block-of-base_cnn\" data-toc-modified-id=\"Refreeze-all-layers-except-for-last-block-of-base_cnn-5.2\"><span class=\"toc-item-num\">5.2&nbsp;&nbsp;</span>Refreeze all layers except for last block of base_cnn</a></span></li></ul></li><li><span><a href=\"#Try-10-Epochs-With-Fine-Tuned-Model\" data-toc-modified-id=\"Try-10-Epochs-With-Fine-Tuned-Model-6\"><span class=\"toc-item-num\">6&nbsp;&nbsp;</span>Try 10 Epochs With Fine-Tuned Model</a></span></li></ul></div>"
   ]
  },
  {
   "cell_type": "markdown",
   "metadata": {
    "heading_collapsed": true
   },
   "source": [
    "## Setup"
   ]
  },
  {
   "cell_type": "markdown",
   "metadata": {
    "heading_collapsed": true,
    "hidden": true
   },
   "source": [
    "### Import Libraries"
   ]
  },
  {
   "cell_type": "code",
   "execution_count": 2,
   "metadata": {
    "hidden": true
   },
   "outputs": [],
   "source": [
    "# Import necessary python packages and functions\n",
    "\n",
    "from __future__ import print_function\n",
    "import sys\n",
    "sys.path.append(\"..\")\n",
    "import matplotlib.pyplot as plt\n",
    "import matplotlib.ticker as ticker\n",
    "import seaborn as sns\n",
    "import numpy as np\n",
    "import pandas as pd\n",
    "import requests\n",
    "import json\n",
    "import math\n",
    "import sklearn\n",
    "from scipy import stats\n",
    "from scipy.stats import norm\n",
    "from sklearn.utils import resample\n",
    "import pickle\n",
    "import statsmodels.api as sm\n",
    "from statsmodels.formula.api import ols\n",
    "import scipy.stats as stats\n",
    "from wordcloud import WordCloud\n",
    "import random\n",
    "from collections import Counter\n",
    "from statsmodels.stats.outliers_influence import variance_inflation_factor\n",
    "from sklearn.model_selection import train_test_split, GridSearchCV, RandomizedSearchCV, cross_val_score, cross_validate\n",
    "from sklearn.linear_model import LassoCV, Lasso, Ridge, LinearRegression, LogisticRegression\n",
    "from sklearn.preprocessing import StandardScaler\n",
    "from sklearn.linear_model import SGDClassifier\n",
    "from sklearn.metrics import roc_curve, auc, confusion_matrix, roc_auc_score, precision_recall_curve, precision_recall_fscore_support\n",
    "import scipy.stats as stats\n",
    "from sklearn.preprocessing import OneHotEncoder\n",
    "from sklearn.ensemble import RandomForestClassifier\n",
    "from imblearn.over_sampling import SMOTE, ADASYN\n",
    "from pprint import pprint\n",
    "import keras\n",
    "from keras.preprocessing import image\n",
    "from keras.preprocessing.image import ImageDataGenerator, array_to_img, img_to_array, load_img\n",
    "from keras.models import Sequential, load_model, Input, Model\n",
    "from keras.layers.core import Dense, Dropout, Activation, Flatten\n",
    "from keras.layers import Conv2D, MaxPooling2D, BatchNormalization\n",
    "from keras.utils import np_utils\n",
    "from keras import backend, layers, models\n",
    "from PIL import Image\n",
    "import imageio\n",
    "import os\n",
    "%matplotlib inline"
   ]
  },
  {
   "cell_type": "markdown",
   "metadata": {
    "heading_collapsed": true,
    "hidden": true
   },
   "source": [
    "### Expand max rows, columns, width"
   ]
  },
  {
   "cell_type": "code",
   "execution_count": 3,
   "metadata": {
    "hidden": true
   },
   "outputs": [],
   "source": [
    "#Expanding max range in Pandas (common practice)\n",
    "pd.set_option('display.max_rows',5000)\n",
    "pd.set_option('display.max_columns', 5000)\n",
    "pd.set_option('display.width', 5000)"
   ]
  },
  {
   "cell_type": "markdown",
   "metadata": {
    "heading_collapsed": true,
    "hidden": true
   },
   "source": [
    "### Configure OS to reduce messages"
   ]
  },
  {
   "cell_type": "code",
   "execution_count": 4,
   "metadata": {
    "hidden": true
   },
   "outputs": [],
   "source": [
    "# This is to avoid getting hundreds of log messages\n",
    "os.environ['TF_CPP_MIN_LOG_LEVEL']='3'"
   ]
  },
  {
   "cell_type": "markdown",
   "metadata": {
    "heading_collapsed": true
   },
   "source": [
    "## Import Data"
   ]
  },
  {
   "cell_type": "markdown",
   "metadata": {
    "heading_collapsed": true,
    "hidden": true
   },
   "source": [
    "### Assign all data to train, validation, and test"
   ]
  },
  {
   "cell_type": "code",
   "execution_count": 5,
   "metadata": {
    "hidden": true
   },
   "outputs": [
    {
     "name": "stdout",
     "output_type": "stream",
     "text": [
      "Found 30000 images belonging to 2 classes.\n",
      "Found 5000 images belonging to 2 classes.\n",
      "Found 5000 images belonging to 2 classes.\n"
     ]
    }
   ],
   "source": [
    "# Get all the data in the directory, and reshape images.\n",
    "# NOTE: images are already a consistent size - 227 x 227\n",
    "# Multiply every value by 1/255 (this is scaling the data on a scale between 0-1)\n",
    "# SHUFFLE!\n",
    "\n",
    "data_train = ImageDataGenerator(rescale=1/255).flow_from_directory( \n",
    "    '/Users/alexandercheng/Desktop/code/projects/crack-detection-data/Data/Train',\n",
    "    target_size=(256, 256), #squish images down to this size (images are already this size)\n",
    "    batch_size=30000, #we want batch size to be all of the images in the folder\n",
    "    shuffle=True,\n",
    "    seed=123)\n",
    "\n",
    "data_validation = ImageDataGenerator(rescale=1/255).flow_from_directory( \n",
    "    '/Users/alexandercheng/Desktop/code/projects/crack-detection-data/Data/Validation',\n",
    "    target_size=(256, 256),\n",
    "    batch_size=5000,\n",
    "    shuffle=True,\n",
    "    seed=123)\n",
    "\n",
    "data_test = ImageDataGenerator(rescale=1/255).flow_from_directory( \n",
    "    '/Users/alexandercheng/Desktop/code/projects/crack-detection-data/Data/Test',\n",
    "    target_size=(256, 256),\n",
    "    batch_size=5000,\n",
    "    shuffle=True,\n",
    "    seed=123)"
   ]
  },
  {
   "cell_type": "markdown",
   "metadata": {
    "heading_collapsed": true,
    "hidden": true
   },
   "source": [
    "### Get images & labels assigned to variables"
   ]
  },
  {
   "cell_type": "code",
   "execution_count": 6,
   "metadata": {
    "hidden": true
   },
   "outputs": [],
   "source": [
    "# Split images and labels\n",
    "\n",
    "images_train, labels_train = next(data_train)\n",
    "images_validation, labels_validation = next(data_validation)\n",
    "images_test, labels_test = next(data_test)"
   ]
  },
  {
   "cell_type": "code",
   "execution_count": 7,
   "metadata": {
    "hidden": true
   },
   "outputs": [
    {
     "name": "stdout",
     "output_type": "stream",
     "text": [
      "TRAIN\n",
      "Images Shape (30000, 256, 256, 3)\n",
      "Labels Shape (30000, 2)\n",
      "VALIDATION\n",
      "Images Shape (5000, 256, 256, 3)\n",
      "Labels Shape (5000, 2)\n",
      "TEST\n",
      "Images Shape (5000, 256, 256, 3)\n",
      "Labels Shape (5000, 2)\n"
     ]
    }
   ],
   "source": [
    "# Check image and label shape.\n",
    "# Each image should now be reshaped into 256 pixels x 256 pixels x 3 colors (RGB).\n",
    "\n",
    "print('TRAIN')\n",
    "print('Images Shape', images_train.shape) #(30,000, 256, 256, 3)\n",
    "print('Labels Shape', labels_train.shape) #(30,000, 2)\n",
    "print('VALIDATION')\n",
    "print('Images Shape', images_validation.shape) #(5,000, 256, 256, 3)\n",
    "print('Labels Shape', labels_validation.shape)#(5,000, 2)\n",
    "print('TEST')\n",
    "print('Images Shape', images_test.shape) #(5,000, 256, 256, 3)\n",
    "print('Labels Shape', labels_test.shape) #(5,000, 2)"
   ]
  },
  {
   "cell_type": "markdown",
   "metadata": {
    "heading_collapsed": true,
    "hidden": true
   },
   "source": [
    "### Create Keras \"Callbacks\" To Customize Training + Output"
   ]
  },
  {
   "cell_type": "code",
   "execution_count": 8,
   "metadata": {
    "hidden": true
   },
   "outputs": [],
   "source": [
    "saving_weights = keras.callbacks.ModelCheckpoint(\n",
    "    'weights.{epoch:02d}-{val_loss:.2f}.hdf5', #save our output as we go through.\n",
    "    monitor='val_loss', verbose=0, save_best_only=False, #for each epoch, give me the validation loss.\n",
    "    save_weights_only=False, mode='auto', period=10)\n",
    "\n",
    "reduce_lr = keras.callbacks.ReduceLROnPlateau( #lr = learning rate - we want a big step size up front to speed up the process, but smaller steps later on to ensure we don't overshoot the minimum)\n",
    "    monitor='val_loss', factor=0.1, patience=20,\n",
    "    verbose=0, mode='auto', min_delta=0.0001, min_lr=0)\n",
    "\n",
    "nan_problem = keras.callbacks.TerminateOnNaN()\n",
    "\n",
    "early_stop = keras.callbacks.EarlyStopping(\n",
    "    monitor='val_loss', min_delta=0, patience=20,\n",
    "    verbose=0, mode='auto', baseline=None, restore_best_weights=False)\n",
    "\n",
    "csv_logger = keras.callbacks.CSVLogger('training.log') #write information about my model to a file"
   ]
  },
  {
   "cell_type": "markdown",
   "metadata": {
    "heading_collapsed": true
   },
   "source": [
    "## Build The CNN"
   ]
  },
  {
   "cell_type": "markdown",
   "metadata": {
    "heading_collapsed": true,
    "hidden": true
   },
   "source": [
    "### Load Pre-Trained Model"
   ]
  },
  {
   "cell_type": "markdown",
   "metadata": {
    "hidden": true
   },
   "source": [
    "**Which pre-trained model to use?**\n",
    "\n",
    "- **NASNetLarge** \n",
    "    - This model has the highest \"top 1\" and \"top 5\" accuracy on Keras documentation.\n",
    "    - But unfortunately...NASNetLarge(weights='imagenet') is forced to take only input_shape=(331, 331, 3).\n",
    "    - This is larger than our dataset's original image size...so we will choose a different base model.\n",
    "- **InceptionResNetV2**\n",
    "    - InceptionResNetV2 - has the 2nd highest \"top 1\" and \"top 5\" accuracy on Keras documentation.\n",
    "    - We wil try this model instead of NASNetLarge"
   ]
  },
  {
   "cell_type": "code",
   "execution_count": 9,
   "metadata": {
    "hidden": true
   },
   "outputs": [],
   "source": [
    "from keras.applications import VGG19"
   ]
  },
  {
   "cell_type": "code",
   "execution_count": 10,
   "metadata": {
    "hidden": true
   },
   "outputs": [
    {
     "name": "stdout",
     "output_type": "stream",
     "text": [
      "Downloading data from https://github.com/fchollet/deep-learning-models/releases/download/v0.1/vgg19_weights_tf_dim_ordering_tf_kernels_notop.h5\n",
      "80142336/80134624 [==============================] - 12s 0us/step\n"
     ]
    }
   ],
   "source": [
    "cnn_base = VGG19(weights='imagenet', #None or \"imagenet\" - we want \"imagenet\" because we want the trained weights.\n",
    "                       include_top=False, #allows us to specify the input shape of our images\n",
    "                       input_shape=(256, 256, 3)) #since \"include_top=False\" we need to provide an input shape for our incoming image data."
   ]
  },
  {
   "cell_type": "markdown",
   "metadata": {
    "heading_collapsed": true,
    "hidden": true
   },
   "source": [
    "### Build Model On Top Of Pre-Trained Model"
   ]
  },
  {
   "cell_type": "markdown",
   "metadata": {
    "hidden": true
   },
   "source": [
    "**NOTES ON BUILDING THE CNN**\n",
    "\n",
    "- **Activation Functions**\n",
    "    - **If you have a multi-label classification problem and there is more than one \"right answer\" and the outputs are NOT mutually exclusive, then use a sigmoid function** on each raw output independently. The sigmoid will allow you to have high probability for all of your classes, some of them, or none of them. Example: classifying diseases in a chest x-ray image. The image might contain pneumonia, emphysema, and/or cancer, or none of those findings.\n",
    "    - **If you have a multi-class classification problem and there is only one \"right answer\" and the outputs are mutually exclusive, then use a softmax function.** The softmax will enforce that the sum of the probabilities of your output classes are equal to one, so in order to increase the probability of a particular class, your model must correspondingly decrease the probability of at least one of the other classes. Example: classifying images from the MNIST data set of handwritten digits. A single picture of a digit has only one true identity - the picture cannot be a 7 and an 8 at the same time."
   ]
  },
  {
   "cell_type": "code",
   "execution_count": 11,
   "metadata": {
    "hidden": true
   },
   "outputs": [],
   "source": [
    "cnn_3 = models.Sequential() #instantiate model\n",
    "\n",
    "cnn_3.add(cnn_base) #add VGG19 pre-trained model without top\n",
    "\n",
    "cnn_3.add(layers.Conv2D(64, (3, 3), #64 different filters, with a 3x3 filter.\n",
    "                      activation='relu', #use ReLu activation functions throughout, save sigmoid / softmax function for the end layer.\n",
    "                      input_shape=(256, 256,  3), #image shape input\n",
    "                      padding='SAME')) #\"valid\" means no padding, and \"same\" means with padding.\n",
    "\n",
    "# 64 bias parameters.\n",
    "# 64 * (3 * 3 * 3) weight parametrs.\n",
    "# Output is 64*256*256.\n",
    "\n",
    "cnn_3.add(layers.MaxPooling2D((2, 2))) #(2,2) reduces dimensionality of image by half.\n",
    "\n",
    "# Output is 64*128*128.\n",
    "# 32 nodes in this layer...no padding here.\n",
    "# Adding padding='SAME' here because InceptionResNetV2 downsamples the input image very aggressively...\n",
    "# And we would otherwise get a negative dimension size in the next pooling step.\n",
    "cnn_3.add(layers.Conv2D(32, (3, 3), activation='relu', padding='SAME')) \n",
    "\n",
    "# 32 bias parameters.\n",
    "# 32 * (3*3*64).\n",
    "# Output is 32*128*128.\n",
    "\n",
    "cnn_3.add(layers.MaxPooling2D((2, 2))) \n",
    "\n",
    "# Output is 32*64*64.\n",
    "# Flattening is converting the data into a 1-dimensional array for inputting it to the next layer. \n",
    "# We flatten the output of the convolutional layers to create a single long feature vector. \n",
    "# 32 x 64 x 64 = 131,072 features once flattened.\n",
    "cnn_3.add(layers.Flatten())\n",
    "\n",
    "# And the flattened data is connected to the final classification, fully-connected layers.\n",
    "# We simply put all the pixel data in one line and make connections with the final layer. \n",
    "# Dense fully connected layer.\n",
    "cnn_3.add(layers.Dense(32, activation='relu')) \n",
    "\n",
    "# Final layer does the classification.\n",
    "# A material cannot be both \"not cracked\" and \"cracked\" - it is either one or the other.\n",
    "# So we use a \"Softmax\" function for classification where there is only 1 \"right answer\".\n",
    "cnn_3.add(layers.Dense(2, activation='softmax')) "
   ]
  },
  {
   "cell_type": "markdown",
   "metadata": {
    "heading_collapsed": true
   },
   "source": [
    "## Freezing The Base"
   ]
  },
  {
   "cell_type": "markdown",
   "metadata": {
    "hidden": true
   },
   "source": [
    "### Examine Layers Of CNN"
   ]
  },
  {
   "cell_type": "code",
   "execution_count": 12,
   "metadata": {
    "hidden": true
   },
   "outputs": [
    {
     "name": "stdout",
     "output_type": "stream",
     "text": [
      "There are 40 trainable weights.\n",
      "\n",
      "There are 8 trainable layers.\n",
      "\n",
      "vgg19 True\n",
      "conv2d_1 True\n",
      "max_pooling2d_1 True\n",
      "conv2d_2 True\n",
      "max_pooling2d_2 True\n",
      "flatten_1 True\n",
      "dense_1 True\n",
      "dense_2 True\n"
     ]
    }
   ],
   "source": [
    "#Check how many trainable weights are in the model\n",
    "print('There are', len(cnn_3.trainable_weights), 'trainable weights.')\n",
    "print()\n",
    "\n",
    "# Check how many layers are trainable\n",
    "print('There are', len(cnn_3.layers), 'trainable layers.')\n",
    "print()\n",
    "\n",
    "# Check which layers are trainable\n",
    "for layer in cnn_3.layers:\n",
    "    print(layer.name, layer.trainable)"
   ]
  },
  {
   "cell_type": "markdown",
   "metadata": {
    "hidden": true
   },
   "source": [
    "### Freeze Base CNN model"
   ]
  },
  {
   "cell_type": "code",
   "execution_count": 14,
   "metadata": {
    "hidden": true
   },
   "outputs": [
    {
     "name": "stdout",
     "output_type": "stream",
     "text": [
      "vgg19 False\n",
      "conv2d_1 True\n",
      "max_pooling2d_1 True\n",
      "conv2d_2 True\n",
      "max_pooling2d_2 True\n",
      "flatten_1 True\n",
      "dense_1 True\n",
      "dense_2 True\n"
     ]
    }
   ],
   "source": [
    "#freeze the base_cnn model, and double-check to make sure it's frozen.\n",
    "cnn_base.trainable = False\n",
    "for layer in cnn_3.layers:\n",
    "    print(layer.name, layer.trainable)"
   ]
  },
  {
   "cell_type": "markdown",
   "metadata": {
    "heading_collapsed": true
   },
   "source": [
    "## Fine-Tuning"
   ]
  },
  {
   "cell_type": "markdown",
   "metadata": {
    "heading_collapsed": true,
    "hidden": true
   },
   "source": [
    "### Take a look at the base CNN architecture"
   ]
  },
  {
   "cell_type": "code",
   "execution_count": 17,
   "metadata": {
    "hidden": true
   },
   "outputs": [],
   "source": [
    "cnn_base.trainable = True"
   ]
  },
  {
   "cell_type": "code",
   "execution_count": 18,
   "metadata": {
    "hidden": true
   },
   "outputs": [
    {
     "name": "stdout",
     "output_type": "stream",
     "text": [
      "Model: \"vgg19\"\n",
      "_________________________________________________________________\n",
      "Layer (type)                 Output Shape              Param #   \n",
      "=================================================================\n",
      "input_1 (InputLayer)         (None, 256, 256, 3)       0         \n",
      "_________________________________________________________________\n",
      "block1_conv1 (Conv2D)        (None, 256, 256, 64)      1792      \n",
      "_________________________________________________________________\n",
      "block1_conv2 (Conv2D)        (None, 256, 256, 64)      36928     \n",
      "_________________________________________________________________\n",
      "block1_pool (MaxPooling2D)   (None, 128, 128, 64)      0         \n",
      "_________________________________________________________________\n",
      "block2_conv1 (Conv2D)        (None, 128, 128, 128)     73856     \n",
      "_________________________________________________________________\n",
      "block2_conv2 (Conv2D)        (None, 128, 128, 128)     147584    \n",
      "_________________________________________________________________\n",
      "block2_pool (MaxPooling2D)   (None, 64, 64, 128)       0         \n",
      "_________________________________________________________________\n",
      "block3_conv1 (Conv2D)        (None, 64, 64, 256)       295168    \n",
      "_________________________________________________________________\n",
      "block3_conv2 (Conv2D)        (None, 64, 64, 256)       590080    \n",
      "_________________________________________________________________\n",
      "block3_conv3 (Conv2D)        (None, 64, 64, 256)       590080    \n",
      "_________________________________________________________________\n",
      "block3_conv4 (Conv2D)        (None, 64, 64, 256)       590080    \n",
      "_________________________________________________________________\n",
      "block3_pool (MaxPooling2D)   (None, 32, 32, 256)       0         \n",
      "_________________________________________________________________\n",
      "block4_conv1 (Conv2D)        (None, 32, 32, 512)       1180160   \n",
      "_________________________________________________________________\n",
      "block4_conv2 (Conv2D)        (None, 32, 32, 512)       2359808   \n",
      "_________________________________________________________________\n",
      "block4_conv3 (Conv2D)        (None, 32, 32, 512)       2359808   \n",
      "_________________________________________________________________\n",
      "block4_conv4 (Conv2D)        (None, 32, 32, 512)       2359808   \n",
      "_________________________________________________________________\n",
      "block4_pool (MaxPooling2D)   (None, 16, 16, 512)       0         \n",
      "_________________________________________________________________\n",
      "block5_conv1 (Conv2D)        (None, 16, 16, 512)       2359808   \n",
      "_________________________________________________________________\n",
      "block5_conv2 (Conv2D)        (None, 16, 16, 512)       2359808   \n",
      "_________________________________________________________________\n",
      "block5_conv3 (Conv2D)        (None, 16, 16, 512)       2359808   \n",
      "_________________________________________________________________\n",
      "block5_conv4 (Conv2D)        (None, 16, 16, 512)       2359808   \n",
      "_________________________________________________________________\n",
      "block5_pool (MaxPooling2D)   (None, 8, 8, 512)         0         \n",
      "=================================================================\n",
      "Total params: 20,024,384\n",
      "Trainable params: 20,024,384\n",
      "Non-trainable params: 0\n",
      "_________________________________________________________________\n"
     ]
    }
   ],
   "source": [
    "cnn_base.summary()"
   ]
  },
  {
   "cell_type": "markdown",
   "metadata": {
    "heading_collapsed": true,
    "hidden": true
   },
   "source": [
    "### Refreeze all layers except for last block of base_cnn"
   ]
  },
  {
   "cell_type": "code",
   "execution_count": 19,
   "metadata": {
    "hidden": true
   },
   "outputs": [],
   "source": [
    "# Unfreeze cnn_base.\n",
    "cnn_base.trainable = True \n",
    "\n",
    "# Refreeze all layers except for the last block of layers.\n",
    "for layer in cnn_base.layers:\n",
    "    if 'block5' in layer.name:\n",
    "        layer.trainable = True\n",
    "    else:\n",
    "        layer.trainable = False"
   ]
  },
  {
   "cell_type": "code",
   "execution_count": 21,
   "metadata": {
    "hidden": true
   },
   "outputs": [
    {
     "name": "stdout",
     "output_type": "stream",
     "text": [
      "input_1 False\n",
      "block1_conv1 False\n",
      "block1_conv2 False\n",
      "block1_pool False\n",
      "block2_conv1 False\n",
      "block2_conv2 False\n",
      "block2_pool False\n",
      "block3_conv1 False\n",
      "block3_conv2 False\n",
      "block3_conv3 False\n",
      "block3_conv4 False\n",
      "block3_pool False\n",
      "block4_conv1 False\n",
      "block4_conv2 False\n",
      "block4_conv3 False\n",
      "block4_conv4 False\n",
      "block4_pool False\n",
      "block5_conv1 True\n",
      "block5_conv2 True\n",
      "block5_conv3 True\n",
      "block5_conv4 True\n",
      "block5_pool True\n"
     ]
    }
   ],
   "source": [
    "#Double check that we unfroze only the last block of layers for the base_cnn.\n",
    "for layer in cnn_base.layers:\n",
    "    print(layer.name, layer.trainable)"
   ]
  },
  {
   "cell_type": "markdown",
   "metadata": {},
   "source": [
    "## Try 10 Epochs With Fine-Tuned Model"
   ]
  },
  {
   "cell_type": "code",
   "execution_count": 22,
   "metadata": {},
   "outputs": [],
   "source": [
    "cnn_3.compile(loss='binary_crossentropy',\n",
    "            optimizer=\"sgd\",\n",
    "            metrics=['acc'])"
   ]
  },
  {
   "cell_type": "code",
   "execution_count": 23,
   "metadata": {},
   "outputs": [
    {
     "name": "stdout",
     "output_type": "stream",
     "text": [
      "Train on 30000 samples, validate on 5000 samples\n",
      "Epoch 1/10\n",
      "30000/30000 [==============================] - 4095s 136ms/step - loss: 0.1450 - acc: 0.9350 - val_loss: 0.0267 - val_acc: 0.9924\n",
      "Epoch 2/10\n",
      "30000/30000 [==============================] - 4075s 136ms/step - loss: 0.0239 - acc: 0.9930 - val_loss: 0.0233 - val_acc: 0.9922\n",
      "Epoch 3/10\n",
      "30000/30000 [==============================] - 4070s 136ms/step - loss: 0.0169 - acc: 0.9950 - val_loss: 0.0202 - val_acc: 0.9938\n",
      "Epoch 4/10\n",
      "30000/30000 [==============================] - 4084s 136ms/step - loss: 0.0143 - acc: 0.9954 - val_loss: 0.0136 - val_acc: 0.9960\n",
      "Epoch 5/10\n",
      "30000/30000 [==============================] - 4082s 136ms/step - loss: 0.0123 - acc: 0.9961 - val_loss: 0.0179 - val_acc: 0.9950\n",
      "Epoch 6/10\n",
      "30000/30000 [==============================] - 4082s 136ms/step - loss: 0.0102 - acc: 0.9968 - val_loss: 0.0165 - val_acc: 0.9958\n",
      "Epoch 7/10\n",
      "30000/30000 [==============================] - 4077s 136ms/step - loss: 0.0105 - acc: 0.9969 - val_loss: 0.0124 - val_acc: 0.9964\n",
      "Epoch 8/10\n",
      "30000/30000 [==============================] - 4079s 136ms/step - loss: 0.0089 - acc: 0.9974 - val_loss: 0.0129 - val_acc: 0.9960\n",
      "Epoch 9/10\n",
      "30000/30000 [==============================] - 4083s 136ms/step - loss: 0.3045 - acc: 0.9188 - val_loss: 0.0556 - val_acc: 0.9848\n",
      "Epoch 10/10\n",
      "30000/30000 [==============================] - 4077s 136ms/step - loss: 0.0415 - acc: 0.9876 - val_loss: 0.0319 - val_acc: 0.9902\n"
     ]
    }
   ],
   "source": [
    "cnn_3c = cnn_3.fit(images_train,\n",
    "               labels_train,\n",
    "               epochs=10,\n",
    "               batch_size=500,\n",
    "               validation_data=(images_validation, labels_validation),\n",
    "               callbacks=[csv_logger, early_stop, nan_problem, reduce_lr, saving_weights])"
   ]
  },
  {
   "cell_type": "code",
   "execution_count": 24,
   "metadata": {},
   "outputs": [],
   "source": [
    "hist_cnn_3c = cnn_3c.history\n",
    "loss_values = hist_cnn_3c['loss']\n",
    "val_loss_values = hist_cnn_3c['val_loss']\n",
    "acc_values = hist_cnn_3c['acc']\n",
    "val_acc_values = hist_cnn_3c['val_acc']\n",
    "epochs = range(1, len(loss_values) + 1)"
   ]
  },
  {
   "cell_type": "code",
   "execution_count": 36,
   "metadata": {
    "scrolled": false
   },
   "outputs": [
    {
     "data": {
      "image/png": "[encoded data removed]",
      "text/plain": [
       "<Figure size 720x504 with 1 Axes>"
      ]
     },
     "metadata": {},
     "output_type": "display_data"
    }
   ],
   "source": [
    "plt.figure(figsize=(10, 7))\n",
    "ax = plt.subplot()\n",
    "sns.set(style='whitegrid', font_scale=1)\n",
    "ax.xaxis.set_major_locator(ticker.MultipleLocator(1))\n",
    "ax.yaxis.set_major_locator(ticker.MultipleLocator(.02))\n",
    "sns.lineplot(epochs, loss_values, label='Training Loss', linewidth=2, marker='o', markersize=8, color='grey')\n",
    "sns.lineplot(epochs, val_loss_values, label='Validation Loss', linewidth=2, marker='o', markersize=8, color='purple')\n",
    "plt.title('Training + Validation Loss', size=20, weight='bold')\n",
    "plt.xlabel('Epochs', size=15, weight='bold')\n",
    "plt.ylabel('Loss', size=15, weight='bold')\n",
    "plt.axis([0,11,0,.32])\n",
    "plt.legend()\n",
    "plt.show()\n",
    "# plt.savefig('cnn_VGG19_tuned_loss.pdf')"
   ]
  },
  {
   "cell_type": "code",
   "execution_count": 37,
   "metadata": {},
   "outputs": [
    {
     "data": {
      "image/png": "[encoded data removed]",
      "text/plain": [
       "<Figure size 720x504 with 1 Axes>"
      ]
     },
     "metadata": {},
     "output_type": "display_data"
    }
   ],
   "source": [
    "plt.figure(figsize=(10, 7))\n",
    "ax = plt.subplot()\n",
    "sns.set(style='whitegrid', font_scale=1)\n",
    "ax.xaxis.set_major_locator(ticker.MultipleLocator(1))\n",
    "ax.yaxis.set_major_locator(ticker.MultipleLocator(.005))\n",
    "sns.lineplot(epochs, acc_values, label='Training Accuracy', linewidth=2, marker='o', markersize=8, color='grey')\n",
    "sns.lineplot(epochs, val_acc_values, label='Validation Accuracy', linewidth=2, marker='o', markersize=8, color='purple')\n",
    "plt.title('Training + Validation Accuracy', size=20, weight='bold')\n",
    "plt.xlabel('Epochs', size=15, weight='bold')\n",
    "plt.ylabel('Accuracy', size=15, weight='bold')\n",
    "plt.axis([0,11,.91,1])\n",
    "plt.legend()\n",
    "plt.show()\n",
    "# plt.savefig('cnn_VGG19_tuned_accuracy.pdf')"
   ]
  },
  {
   "cell_type": "code",
   "execution_count": 35,
   "metadata": {},
   "outputs": [
    {
     "name": "stdout",
     "output_type": "stream",
     "text": [
      "Saved model to disk\n"
     ]
    }
   ],
   "source": [
    "cnn_3.save(\"cnn_3_tuned.h5\")\n",
    "print(\"Saved model to disk\")"
   ]
  }
 ],
 "metadata": {
  "kernelspec": {
   "display_name": "Python 3",
   "language": "python",
   "name": "python3"
  },
  "language_info": {
   "codemirror_mode": {
    "name": "ipython",
    "version": 3
   },
   "file_extension": ".py",
   "mimetype": "text/x-python",
   "name": "python",
   "nbconvert_exporter": "python",
   "pygments_lexer": "ipython3",
   "version": "3.7.4"
  },
  "toc": {
   "base_numbering": 1,
   "nav_menu": {},
   "number_sections": true,
   "sideBar": true,
   "skip_h1_title": true,
   "title_cell": "Table of Contents",
   "title_sidebar": "Contents",
   "toc_cell": true,
   "toc_position": {},
   "toc_section_display": true,
   "toc_window_display": false
  }
 },
 "nbformat": 4,
 "nbformat_minor": 2
}
